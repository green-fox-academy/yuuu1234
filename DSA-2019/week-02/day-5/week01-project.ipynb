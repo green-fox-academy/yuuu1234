{
 "cells": [
  {
   "cell_type": "markdown",
   "metadata": {},
   "source": [
    "# Analyzing Green Fox HQ logs"
   ]
  },
  {
   "cell_type": "code",
   "execution_count": 176,
   "metadata": {},
   "outputs": [],
   "source": [
    "import pandas as pd\n",
    "import numpy as np\n",
    "import matplotlib.pyplot as plt\n",
    "import seaborn as sns"
   ]
  },
  {
   "cell_type": "code",
   "execution_count": 120,
   "metadata": {},
   "outputs": [],
   "source": [
    "entry_log=pd.read_csv(\"logs.csv\") "
   ]
  },
  {
   "cell_type": "code",
   "execution_count": 157,
   "metadata": {},
   "outputs": [
    {
     "data": {
      "text/html": [
       "<div>\n",
       "<style scoped>\n",
       "    .dataframe tbody tr th:only-of-type {\n",
       "        vertical-align: middle;\n",
       "    }\n",
       "\n",
       "    .dataframe tbody tr th {\n",
       "        vertical-align: top;\n",
       "    }\n",
       "\n",
       "    .dataframe thead th {\n",
       "        text-align: right;\n",
       "    }\n",
       "</style>\n",
       "<table border=\"1\" class=\"dataframe\">\n",
       "  <thead>\n",
       "    <tr style=\"text-align: right;\">\n",
       "      <th></th>\n",
       "      <th>Id</th>\n",
       "      <th>Date and Time</th>\n",
       "      <th>Event message</th>\n",
       "      <th>Event number</th>\n",
       "      <th>Object #1</th>\n",
       "      <th>Description #1</th>\n",
       "      <th>Object #2</th>\n",
       "      <th>Description #2</th>\n",
       "      <th>Object #3</th>\n",
       "      <th>Description #3</th>\n",
       "      <th>Object #4</th>\n",
       "      <th>Description #4</th>\n",
       "      <th>Card number</th>\n",
       "      <th>date</th>\n",
       "      <th>time</th>\n",
       "    </tr>\n",
       "  </thead>\n",
       "  <tbody>\n",
       "    <tr>\n",
       "      <th>0</th>\n",
       "      <td>1</td>\n",
       "      <td>2019.01.02. 9:21:49</td>\n",
       "      <td>Access granted</td>\n",
       "      <td>203</td>\n",
       "      <td>12</td>\n",
       "      <td>A66 - 04 FÕBEJÁRAT (F-1) Door #1</td>\n",
       "      <td>5</td>\n",
       "      <td>Czender András</td>\n",
       "      <td>0</td>\n",
       "      <td>NaN</td>\n",
       "      <td>0</td>\n",
       "      <td>NaN</td>\n",
       "      <td>00215:09895</td>\n",
       "      <td></td>\n",
       "      <td></td>\n",
       "    </tr>\n",
       "    <tr>\n",
       "      <th>1</th>\n",
       "      <td>2</td>\n",
       "      <td>2019.01.02. 9:22:54</td>\n",
       "      <td>Access granted</td>\n",
       "      <td>203</td>\n",
       "      <td>12</td>\n",
       "      <td>A66 - 17 Recepció (3-1) Door #1</td>\n",
       "      <td>5</td>\n",
       "      <td>Czender András</td>\n",
       "      <td>0</td>\n",
       "      <td>NaN</td>\n",
       "      <td>0</td>\n",
       "      <td>NaN</td>\n",
       "      <td>00215:09895</td>\n",
       "      <td></td>\n",
       "      <td></td>\n",
       "    </tr>\n",
       "    <tr>\n",
       "      <th>2</th>\n",
       "      <td>3</td>\n",
       "      <td>2019.01.02. 9:29:15</td>\n",
       "      <td>Access granted</td>\n",
       "      <td>203</td>\n",
       "      <td>12</td>\n",
       "      <td>A66 - 12 Recepció (2-1) Door #1</td>\n",
       "      <td>5</td>\n",
       "      <td>Puskás Nóra</td>\n",
       "      <td>0</td>\n",
       "      <td>NaN</td>\n",
       "      <td>0</td>\n",
       "      <td>NaN</td>\n",
       "      <td>00059:58046</td>\n",
       "      <td></td>\n",
       "      <td></td>\n",
       "    </tr>\n",
       "    <tr>\n",
       "      <th>3</th>\n",
       "      <td>4</td>\n",
       "      <td>2019.01.02. 9:31:19</td>\n",
       "      <td>Access granted</td>\n",
       "      <td>203</td>\n",
       "      <td>12</td>\n",
       "      <td>A66 - 17 Recepció (3-1) Door #1</td>\n",
       "      <td>5</td>\n",
       "      <td>Puskás Nóra</td>\n",
       "      <td>0</td>\n",
       "      <td>NaN</td>\n",
       "      <td>0</td>\n",
       "      <td>NaN</td>\n",
       "      <td>00059:58046</td>\n",
       "      <td></td>\n",
       "      <td></td>\n",
       "    </tr>\n",
       "    <tr>\n",
       "      <th>4</th>\n",
       "      <td>5</td>\n",
       "      <td>2019.01.02. 9:36:51</td>\n",
       "      <td>Access granted</td>\n",
       "      <td>203</td>\n",
       "      <td>12</td>\n",
       "      <td>A66 - 04 FÕBEJÁRAT (F-1) Door #1</td>\n",
       "      <td>5</td>\n",
       "      <td>Ripka Péter</td>\n",
       "      <td>0</td>\n",
       "      <td>NaN</td>\n",
       "      <td>0</td>\n",
       "      <td>NaN</td>\n",
       "      <td>00110:57041</td>\n",
       "      <td></td>\n",
       "      <td></td>\n",
       "    </tr>\n",
       "    <tr>\n",
       "      <th>5</th>\n",
       "      <td>6</td>\n",
       "      <td>2019.01.02. 9:38:00</td>\n",
       "      <td>Access granted</td>\n",
       "      <td>203</td>\n",
       "      <td>12</td>\n",
       "      <td>A66 - 17 Recepció (3-1) Door #1</td>\n",
       "      <td>5</td>\n",
       "      <td>Ripka Péter</td>\n",
       "      <td>0</td>\n",
       "      <td>NaN</td>\n",
       "      <td>0</td>\n",
       "      <td>NaN</td>\n",
       "      <td>00110:57041</td>\n",
       "      <td></td>\n",
       "      <td></td>\n",
       "    </tr>\n",
       "    <tr>\n",
       "      <th>6</th>\n",
       "      <td>7</td>\n",
       "      <td>2019.01.02. 9:44:46</td>\n",
       "      <td>Access granted</td>\n",
       "      <td>203</td>\n",
       "      <td>12</td>\n",
       "      <td>A66 - 04 FÕBEJÁRAT (F-1) Door #1</td>\n",
       "      <td>5</td>\n",
       "      <td>Szívós István</td>\n",
       "      <td>0</td>\n",
       "      <td>NaN</td>\n",
       "      <td>0</td>\n",
       "      <td>NaN</td>\n",
       "      <td>00008:58673</td>\n",
       "      <td></td>\n",
       "      <td></td>\n",
       "    </tr>\n",
       "    <tr>\n",
       "      <th>7</th>\n",
       "      <td>8</td>\n",
       "      <td>2019.01.02. 9:46:16</td>\n",
       "      <td>Access granted</td>\n",
       "      <td>203</td>\n",
       "      <td>12</td>\n",
       "      <td>A66 - 17 Recepció (3-1) Door #1</td>\n",
       "      <td>5</td>\n",
       "      <td>Szívós István</td>\n",
       "      <td>0</td>\n",
       "      <td>NaN</td>\n",
       "      <td>0</td>\n",
       "      <td>NaN</td>\n",
       "      <td>00008:58673</td>\n",
       "      <td></td>\n",
       "      <td></td>\n",
       "    </tr>\n",
       "    <tr>\n",
       "      <th>8</th>\n",
       "      <td>9</td>\n",
       "      <td>2019.01.02. 10:02:19</td>\n",
       "      <td>Access granted</td>\n",
       "      <td>203</td>\n",
       "      <td>12</td>\n",
       "      <td>A66 - 04 FÕBEJÁRAT (F-1) Door #1</td>\n",
       "      <td>5</td>\n",
       "      <td>Megyaszai Dániel</td>\n",
       "      <td>0</td>\n",
       "      <td>NaN</td>\n",
       "      <td>0</td>\n",
       "      <td>NaN</td>\n",
       "      <td>00055:39162</td>\n",
       "      <td></td>\n",
       "      <td></td>\n",
       "    </tr>\n",
       "    <tr>\n",
       "      <th>9</th>\n",
       "      <td>10</td>\n",
       "      <td>2019.01.02. 10:03:26</td>\n",
       "      <td>Access granted</td>\n",
       "      <td>203</td>\n",
       "      <td>12</td>\n",
       "      <td>A66 - 17 Recepció (3-1) Door #1</td>\n",
       "      <td>5</td>\n",
       "      <td>Megyaszai Dániel</td>\n",
       "      <td>0</td>\n",
       "      <td>NaN</td>\n",
       "      <td>0</td>\n",
       "      <td>NaN</td>\n",
       "      <td>00055:39162</td>\n",
       "      <td></td>\n",
       "      <td></td>\n",
       "    </tr>\n",
       "    <tr>\n",
       "      <th>10</th>\n",
       "      <td>11</td>\n",
       "      <td>2019.01.02. 10:29:59</td>\n",
       "      <td>Access granted</td>\n",
       "      <td>203</td>\n",
       "      <td>12</td>\n",
       "      <td>A66 - 04 FÕBEJÁRAT (F-1) Door #1</td>\n",
       "      <td>5</td>\n",
       "      <td>Bakó Farkas</td>\n",
       "      <td>0</td>\n",
       "      <td>NaN</td>\n",
       "      <td>0</td>\n",
       "      <td>NaN</td>\n",
       "      <td>00152:61253</td>\n",
       "      <td></td>\n",
       "      <td></td>\n",
       "    </tr>\n",
       "    <tr>\n",
       "      <th>11</th>\n",
       "      <td>12</td>\n",
       "      <td>2019.01.02. 10:30:58</td>\n",
       "      <td>Access granted</td>\n",
       "      <td>203</td>\n",
       "      <td>12</td>\n",
       "      <td>A66 - 17 Recepció (3-1) Door #1</td>\n",
       "      <td>5</td>\n",
       "      <td>Bakó Farkas</td>\n",
       "      <td>0</td>\n",
       "      <td>NaN</td>\n",
       "      <td>0</td>\n",
       "      <td>NaN</td>\n",
       "      <td>00152:61253</td>\n",
       "      <td></td>\n",
       "      <td></td>\n",
       "    </tr>\n",
       "    <tr>\n",
       "      <th>12</th>\n",
       "      <td>13</td>\n",
       "      <td>2019.01.02. 10:59:54</td>\n",
       "      <td>Access granted</td>\n",
       "      <td>203</td>\n",
       "      <td>12</td>\n",
       "      <td>A66 - 04 FÕBEJÁRAT (F-1) Door #1</td>\n",
       "      <td>5</td>\n",
       "      <td>Noszka András</td>\n",
       "      <td>0</td>\n",
       "      <td>NaN</td>\n",
       "      <td>0</td>\n",
       "      <td>NaN</td>\n",
       "      <td>00249:15139</td>\n",
       "      <td></td>\n",
       "      <td></td>\n",
       "    </tr>\n",
       "    <tr>\n",
       "      <th>13</th>\n",
       "      <td>14</td>\n",
       "      <td>2019.01.02. 11:02:12</td>\n",
       "      <td>Access granted</td>\n",
       "      <td>203</td>\n",
       "      <td>12</td>\n",
       "      <td>A66 - 12 Recepció (2-1) Door #1</td>\n",
       "      <td>5</td>\n",
       "      <td>Noszka András</td>\n",
       "      <td>0</td>\n",
       "      <td>NaN</td>\n",
       "      <td>0</td>\n",
       "      <td>NaN</td>\n",
       "      <td>00249:15139</td>\n",
       "      <td></td>\n",
       "      <td></td>\n",
       "    </tr>\n",
       "    <tr>\n",
       "      <th>14</th>\n",
       "      <td>15</td>\n",
       "      <td>2019.01.02. 11:15:29</td>\n",
       "      <td>Access granted</td>\n",
       "      <td>203</td>\n",
       "      <td>12</td>\n",
       "      <td>A66 - 04 FÕBEJÁRAT (F-1) Door #1</td>\n",
       "      <td>5</td>\n",
       "      <td>Németh Krisztina</td>\n",
       "      <td>0</td>\n",
       "      <td>NaN</td>\n",
       "      <td>0</td>\n",
       "      <td>NaN</td>\n",
       "      <td>00147:18727</td>\n",
       "      <td></td>\n",
       "      <td></td>\n",
       "    </tr>\n",
       "    <tr>\n",
       "      <th>15</th>\n",
       "      <td>16</td>\n",
       "      <td>2019.01.02. 11:16:21</td>\n",
       "      <td>Access granted</td>\n",
       "      <td>203</td>\n",
       "      <td>12</td>\n",
       "      <td>A66 - 12 Recepció (2-1) Door #1</td>\n",
       "      <td>5</td>\n",
       "      <td>Németh Krisztina</td>\n",
       "      <td>0</td>\n",
       "      <td>NaN</td>\n",
       "      <td>0</td>\n",
       "      <td>NaN</td>\n",
       "      <td>00147:18727</td>\n",
       "      <td></td>\n",
       "      <td></td>\n",
       "    </tr>\n",
       "    <tr>\n",
       "      <th>16</th>\n",
       "      <td>17</td>\n",
       "      <td>2019.01.02. 11:35:36</td>\n",
       "      <td>Access granted</td>\n",
       "      <td>203</td>\n",
       "      <td>12</td>\n",
       "      <td>A66 - 04 FÕBEJÁRAT (F-1) Door #1</td>\n",
       "      <td>5</td>\n",
       "      <td>Nagy Csongor</td>\n",
       "      <td>0</td>\n",
       "      <td>NaN</td>\n",
       "      <td>0</td>\n",
       "      <td>NaN</td>\n",
       "      <td>00006:33914</td>\n",
       "      <td></td>\n",
       "      <td></td>\n",
       "    </tr>\n",
       "    <tr>\n",
       "      <th>17</th>\n",
       "      <td>18</td>\n",
       "      <td>2019.01.02. 11:36:54</td>\n",
       "      <td>Access granted</td>\n",
       "      <td>203</td>\n",
       "      <td>12</td>\n",
       "      <td>A66 - 17 Recepció (3-1) Door #1</td>\n",
       "      <td>5</td>\n",
       "      <td>Nagy Csongor</td>\n",
       "      <td>0</td>\n",
       "      <td>NaN</td>\n",
       "      <td>0</td>\n",
       "      <td>NaN</td>\n",
       "      <td>00006:33914</td>\n",
       "      <td></td>\n",
       "      <td></td>\n",
       "    </tr>\n",
       "    <tr>\n",
       "      <th>18</th>\n",
       "      <td>19</td>\n",
       "      <td>2019.01.02. 11:51:23</td>\n",
       "      <td>Access granted</td>\n",
       "      <td>203</td>\n",
       "      <td>12</td>\n",
       "      <td>A66 - 04 FÕBEJÁRAT (F-1) Door #1</td>\n",
       "      <td>5</td>\n",
       "      <td>Szívós István</td>\n",
       "      <td>0</td>\n",
       "      <td>NaN</td>\n",
       "      <td>0</td>\n",
       "      <td>NaN</td>\n",
       "      <td>00008:58673</td>\n",
       "      <td></td>\n",
       "      <td></td>\n",
       "    </tr>\n",
       "    <tr>\n",
       "      <th>19</th>\n",
       "      <td>20</td>\n",
       "      <td>2019.01.02. 11:52:52</td>\n",
       "      <td>Access granted</td>\n",
       "      <td>203</td>\n",
       "      <td>12</td>\n",
       "      <td>A66 - 17 Recepció (3-1) Door #1</td>\n",
       "      <td>5</td>\n",
       "      <td>Szívós István</td>\n",
       "      <td>0</td>\n",
       "      <td>NaN</td>\n",
       "      <td>0</td>\n",
       "      <td>NaN</td>\n",
       "      <td>00008:58673</td>\n",
       "      <td></td>\n",
       "      <td></td>\n",
       "    </tr>\n",
       "    <tr>\n",
       "      <th>20</th>\n",
       "      <td>21</td>\n",
       "      <td>2019.01.02. 11:56:14</td>\n",
       "      <td>Access granted</td>\n",
       "      <td>203</td>\n",
       "      <td>12</td>\n",
       "      <td>A66 - 04 FÕBEJÁRAT (F-1) Door #1</td>\n",
       "      <td>5</td>\n",
       "      <td>Noszka András</td>\n",
       "      <td>0</td>\n",
       "      <td>NaN</td>\n",
       "      <td>0</td>\n",
       "      <td>NaN</td>\n",
       "      <td>00249:15139</td>\n",
       "      <td></td>\n",
       "      <td></td>\n",
       "    </tr>\n",
       "    <tr>\n",
       "      <th>21</th>\n",
       "      <td>22</td>\n",
       "      <td>2019.01.02. 11:57:12</td>\n",
       "      <td>Access granted</td>\n",
       "      <td>203</td>\n",
       "      <td>12</td>\n",
       "      <td>A66 - 12 Recepció (2-1) Door #1</td>\n",
       "      <td>5</td>\n",
       "      <td>Noszka András</td>\n",
       "      <td>0</td>\n",
       "      <td>NaN</td>\n",
       "      <td>0</td>\n",
       "      <td>NaN</td>\n",
       "      <td>00249:15139</td>\n",
       "      <td></td>\n",
       "      <td></td>\n",
       "    </tr>\n",
       "    <tr>\n",
       "      <th>22</th>\n",
       "      <td>23</td>\n",
       "      <td>2019.01.02. 12:08:55</td>\n",
       "      <td>Access granted</td>\n",
       "      <td>203</td>\n",
       "      <td>12</td>\n",
       "      <td>A66 - 17 Recepció (3-1) Door #1</td>\n",
       "      <td>5</td>\n",
       "      <td>Megyaszai Dániel</td>\n",
       "      <td>0</td>\n",
       "      <td>NaN</td>\n",
       "      <td>0</td>\n",
       "      <td>NaN</td>\n",
       "      <td>00055:39162</td>\n",
       "      <td></td>\n",
       "      <td></td>\n",
       "    </tr>\n",
       "    <tr>\n",
       "      <th>23</th>\n",
       "      <td>24</td>\n",
       "      <td>2019.01.02. 12:40:04</td>\n",
       "      <td>Access granted</td>\n",
       "      <td>203</td>\n",
       "      <td>12</td>\n",
       "      <td>A66 - 04 FÕBEJÁRAT (F-1) Door #1</td>\n",
       "      <td>5</td>\n",
       "      <td>Szirmai Dóra</td>\n",
       "      <td>0</td>\n",
       "      <td>NaN</td>\n",
       "      <td>0</td>\n",
       "      <td>NaN</td>\n",
       "      <td>00082:08465</td>\n",
       "      <td></td>\n",
       "      <td></td>\n",
       "    </tr>\n",
       "    <tr>\n",
       "      <th>24</th>\n",
       "      <td>25</td>\n",
       "      <td>2019.01.02. 12:41:24</td>\n",
       "      <td>Access granted</td>\n",
       "      <td>203</td>\n",
       "      <td>12</td>\n",
       "      <td>A66 - 17 Recepció (3-1) Door #1</td>\n",
       "      <td>5</td>\n",
       "      <td>Szirmai Dóra</td>\n",
       "      <td>0</td>\n",
       "      <td>NaN</td>\n",
       "      <td>0</td>\n",
       "      <td>NaN</td>\n",
       "      <td>00082:08465</td>\n",
       "      <td></td>\n",
       "      <td></td>\n",
       "    </tr>\n",
       "    <tr>\n",
       "      <th>25</th>\n",
       "      <td>26</td>\n",
       "      <td>2019.01.02. 12:50:29</td>\n",
       "      <td>Access granted</td>\n",
       "      <td>203</td>\n",
       "      <td>12</td>\n",
       "      <td>A66 - 04 FÕBEJÁRAT (F-1) Door #1</td>\n",
       "      <td>5</td>\n",
       "      <td>Puskás Nóra</td>\n",
       "      <td>0</td>\n",
       "      <td>NaN</td>\n",
       "      <td>0</td>\n",
       "      <td>NaN</td>\n",
       "      <td>00059:58046</td>\n",
       "      <td></td>\n",
       "      <td></td>\n",
       "    </tr>\n",
       "    <tr>\n",
       "      <th>26</th>\n",
       "      <td>27</td>\n",
       "      <td>2019.01.02. 12:50:41</td>\n",
       "      <td>Access granted</td>\n",
       "      <td>203</td>\n",
       "      <td>12</td>\n",
       "      <td>A66 - 04 FÕBEJÁRAT (F-1) Door #1</td>\n",
       "      <td>5</td>\n",
       "      <td>Antal Péter</td>\n",
       "      <td>0</td>\n",
       "      <td>NaN</td>\n",
       "      <td>0</td>\n",
       "      <td>NaN</td>\n",
       "      <td>00137:45989</td>\n",
       "      <td></td>\n",
       "      <td></td>\n",
       "    </tr>\n",
       "    <tr>\n",
       "      <th>27</th>\n",
       "      <td>28</td>\n",
       "      <td>2019.01.02. 12:51:12</td>\n",
       "      <td>Access granted</td>\n",
       "      <td>203</td>\n",
       "      <td>12</td>\n",
       "      <td>A66 - 12 Recepció (2-1) Door #1</td>\n",
       "      <td>5</td>\n",
       "      <td>Puskás Nóra</td>\n",
       "      <td>0</td>\n",
       "      <td>NaN</td>\n",
       "      <td>0</td>\n",
       "      <td>NaN</td>\n",
       "      <td>00059:58046</td>\n",
       "      <td></td>\n",
       "      <td></td>\n",
       "    </tr>\n",
       "    <tr>\n",
       "      <th>28</th>\n",
       "      <td>29</td>\n",
       "      <td>2019.01.02. 13:05:49</td>\n",
       "      <td>Access granted</td>\n",
       "      <td>203</td>\n",
       "      <td>12</td>\n",
       "      <td>A66 - 04 FÕBEJÁRAT (F-1) Door #1</td>\n",
       "      <td>5</td>\n",
       "      <td>Antal Péter</td>\n",
       "      <td>0</td>\n",
       "      <td>NaN</td>\n",
       "      <td>0</td>\n",
       "      <td>NaN</td>\n",
       "      <td>00137:45989</td>\n",
       "      <td></td>\n",
       "      <td></td>\n",
       "    </tr>\n",
       "    <tr>\n",
       "      <th>29</th>\n",
       "      <td>30</td>\n",
       "      <td>2019.01.02. 13:06:50</td>\n",
       "      <td>Access granted</td>\n",
       "      <td>203</td>\n",
       "      <td>12</td>\n",
       "      <td>A66 - 12 Recepció (2-1) Door #1</td>\n",
       "      <td>5</td>\n",
       "      <td>Antal Péter</td>\n",
       "      <td>0</td>\n",
       "      <td>NaN</td>\n",
       "      <td>0</td>\n",
       "      <td>NaN</td>\n",
       "      <td>00137:45989</td>\n",
       "      <td></td>\n",
       "      <td></td>\n",
       "    </tr>\n",
       "    <tr>\n",
       "      <th>...</th>\n",
       "      <td>...</td>\n",
       "      <td>...</td>\n",
       "      <td>...</td>\n",
       "      <td>...</td>\n",
       "      <td>...</td>\n",
       "      <td>...</td>\n",
       "      <td>...</td>\n",
       "      <td>...</td>\n",
       "      <td>...</td>\n",
       "      <td>...</td>\n",
       "      <td>...</td>\n",
       "      <td>...</td>\n",
       "      <td>...</td>\n",
       "      <td>...</td>\n",
       "      <td>...</td>\n",
       "    </tr>\n",
       "    <tr>\n",
       "      <th>10450</th>\n",
       "      <td>10451</td>\n",
       "      <td>2019.01.31. 17:05:31</td>\n",
       "      <td>Access granted</td>\n",
       "      <td>203</td>\n",
       "      <td>12</td>\n",
       "      <td>A66 - 06 Kávézó terasz (F-3) Door #1</td>\n",
       "      <td>5</td>\n",
       "      <td>Gál Zsuzsa</td>\n",
       "      <td>0</td>\n",
       "      <td>NaN</td>\n",
       "      <td>0</td>\n",
       "      <td>NaN</td>\n",
       "      <td>00137:44965</td>\n",
       "      <td></td>\n",
       "      <td></td>\n",
       "    </tr>\n",
       "    <tr>\n",
       "      <th>10451</th>\n",
       "      <td>10452</td>\n",
       "      <td>2019.01.31. 17:05:45</td>\n",
       "      <td>Access granted</td>\n",
       "      <td>203</td>\n",
       "      <td>12</td>\n",
       "      <td>A66 - 04 FÕBEJÁRAT (F-1) Door #1</td>\n",
       "      <td>5</td>\n",
       "      <td>Kalász Barnabás</td>\n",
       "      <td>0</td>\n",
       "      <td>NaN</td>\n",
       "      <td>0</td>\n",
       "      <td>NaN</td>\n",
       "      <td>00159:45378</td>\n",
       "      <td></td>\n",
       "      <td></td>\n",
       "    </tr>\n",
       "    <tr>\n",
       "      <th>10452</th>\n",
       "      <td>10453</td>\n",
       "      <td>2019.01.31. 17:06:39</td>\n",
       "      <td>Access granted</td>\n",
       "      <td>203</td>\n",
       "      <td>12</td>\n",
       "      <td>A66 - 17 Recepció (3-1) Door #1</td>\n",
       "      <td>5</td>\n",
       "      <td>Tóth Lilla</td>\n",
       "      <td>0</td>\n",
       "      <td>NaN</td>\n",
       "      <td>0</td>\n",
       "      <td>NaN</td>\n",
       "      <td>00169:38418</td>\n",
       "      <td></td>\n",
       "      <td></td>\n",
       "    </tr>\n",
       "    <tr>\n",
       "      <th>10453</th>\n",
       "      <td>10454</td>\n",
       "      <td>2019.01.31. 17:10:37</td>\n",
       "      <td>Access granted</td>\n",
       "      <td>203</td>\n",
       "      <td>12</td>\n",
       "      <td>A66 - 06 Kávézó terasz (F-3) Door #1</td>\n",
       "      <td>5</td>\n",
       "      <td>Császári Noémi</td>\n",
       "      <td>0</td>\n",
       "      <td>NaN</td>\n",
       "      <td>0</td>\n",
       "      <td>NaN</td>\n",
       "      <td>00066:49877</td>\n",
       "      <td></td>\n",
       "      <td></td>\n",
       "    </tr>\n",
       "    <tr>\n",
       "      <th>10454</th>\n",
       "      <td>10455</td>\n",
       "      <td>2019.01.31. 17:10:54</td>\n",
       "      <td>Access granted</td>\n",
       "      <td>203</td>\n",
       "      <td>12</td>\n",
       "      <td>A66 - 06 Kávézó terasz (F-3) Door #1</td>\n",
       "      <td>5</td>\n",
       "      <td>Berbardo Diana</td>\n",
       "      <td>0</td>\n",
       "      <td>NaN</td>\n",
       "      <td>0</td>\n",
       "      <td>NaN</td>\n",
       "      <td>00118:62699</td>\n",
       "      <td></td>\n",
       "      <td></td>\n",
       "    </tr>\n",
       "    <tr>\n",
       "      <th>10455</th>\n",
       "      <td>10456</td>\n",
       "      <td>2019.01.31. 17:11:04</td>\n",
       "      <td>Access granted</td>\n",
       "      <td>203</td>\n",
       "      <td>12</td>\n",
       "      <td>A66 - 06 Kávézó terasz (F-3) Door #1</td>\n",
       "      <td>5</td>\n",
       "      <td>Kelemen Balázs</td>\n",
       "      <td>0</td>\n",
       "      <td>NaN</td>\n",
       "      <td>0</td>\n",
       "      <td>NaN</td>\n",
       "      <td>00156:24003</td>\n",
       "      <td></td>\n",
       "      <td></td>\n",
       "    </tr>\n",
       "    <tr>\n",
       "      <th>10456</th>\n",
       "      <td>10457</td>\n",
       "      <td>2019.01.31. 17:15:33</td>\n",
       "      <td>Access granted</td>\n",
       "      <td>203</td>\n",
       "      <td>12</td>\n",
       "      <td>A66 - 12 Recepció (2-1) Door #1</td>\n",
       "      <td>5</td>\n",
       "      <td>Szirmai Dóra</td>\n",
       "      <td>0</td>\n",
       "      <td>NaN</td>\n",
       "      <td>0</td>\n",
       "      <td>NaN</td>\n",
       "      <td>00082:08465</td>\n",
       "      <td></td>\n",
       "      <td></td>\n",
       "    </tr>\n",
       "    <tr>\n",
       "      <th>10457</th>\n",
       "      <td>10458</td>\n",
       "      <td>2019.01.31. 17:20:29</td>\n",
       "      <td>Access granted</td>\n",
       "      <td>203</td>\n",
       "      <td>12</td>\n",
       "      <td>A66 - 06 Kávézó terasz (F-3) Door #1</td>\n",
       "      <td>5</td>\n",
       "      <td>Lévai Péter</td>\n",
       "      <td>0</td>\n",
       "      <td>NaN</td>\n",
       "      <td>0</td>\n",
       "      <td>NaN</td>\n",
       "      <td>00186:21741</td>\n",
       "      <td></td>\n",
       "      <td></td>\n",
       "    </tr>\n",
       "    <tr>\n",
       "      <th>10458</th>\n",
       "      <td>10459</td>\n",
       "      <td>2019.01.31. 17:22:48</td>\n",
       "      <td>Access granted</td>\n",
       "      <td>203</td>\n",
       "      <td>12</td>\n",
       "      <td>A66 - 12 Recepció (2-1) Door #1</td>\n",
       "      <td>5</td>\n",
       "      <td>Noszka András</td>\n",
       "      <td>0</td>\n",
       "      <td>NaN</td>\n",
       "      <td>0</td>\n",
       "      <td>NaN</td>\n",
       "      <td>00249:15139</td>\n",
       "      <td></td>\n",
       "      <td></td>\n",
       "    </tr>\n",
       "    <tr>\n",
       "      <th>10459</th>\n",
       "      <td>10460</td>\n",
       "      <td>2019.01.31. 17:23:54</td>\n",
       "      <td>Access granted</td>\n",
       "      <td>203</td>\n",
       "      <td>12</td>\n",
       "      <td>A66 - 13 Elõtér 216 (2-2) Door #1</td>\n",
       "      <td>5</td>\n",
       "      <td>Morvay Gergely</td>\n",
       "      <td>0</td>\n",
       "      <td>NaN</td>\n",
       "      <td>0</td>\n",
       "      <td>NaN</td>\n",
       "      <td>00214:48881</td>\n",
       "      <td></td>\n",
       "      <td></td>\n",
       "    </tr>\n",
       "    <tr>\n",
       "      <th>10460</th>\n",
       "      <td>10461</td>\n",
       "      <td>2019.01.31. 17:25:11</td>\n",
       "      <td>Access granted</td>\n",
       "      <td>203</td>\n",
       "      <td>12</td>\n",
       "      <td>A66 - 17 Recepció (3-1) Door #1</td>\n",
       "      <td>5</td>\n",
       "      <td>Szirmai Dóra</td>\n",
       "      <td>0</td>\n",
       "      <td>NaN</td>\n",
       "      <td>0</td>\n",
       "      <td>NaN</td>\n",
       "      <td>00082:08465</td>\n",
       "      <td></td>\n",
       "      <td></td>\n",
       "    </tr>\n",
       "    <tr>\n",
       "      <th>10461</th>\n",
       "      <td>10462</td>\n",
       "      <td>2019.01.31. 17:29:48</td>\n",
       "      <td>Access granted</td>\n",
       "      <td>203</td>\n",
       "      <td>12</td>\n",
       "      <td>A66 - 17 Recepció (3-1) Door #1</td>\n",
       "      <td>5</td>\n",
       "      <td>Németh Krisztina</td>\n",
       "      <td>0</td>\n",
       "      <td>NaN</td>\n",
       "      <td>0</td>\n",
       "      <td>NaN</td>\n",
       "      <td>00147:18727</td>\n",
       "      <td></td>\n",
       "      <td></td>\n",
       "    </tr>\n",
       "    <tr>\n",
       "      <th>10462</th>\n",
       "      <td>10463</td>\n",
       "      <td>2019.01.31. 17:30:20</td>\n",
       "      <td>Access granted</td>\n",
       "      <td>203</td>\n",
       "      <td>12</td>\n",
       "      <td>A66 - 06 Kávézó terasz (F-3) Door #1</td>\n",
       "      <td>5</td>\n",
       "      <td>Külüs Zsuzsanna</td>\n",
       "      <td>0</td>\n",
       "      <td>NaN</td>\n",
       "      <td>0</td>\n",
       "      <td>NaN</td>\n",
       "      <td>00003:50701</td>\n",
       "      <td></td>\n",
       "      <td></td>\n",
       "    </tr>\n",
       "    <tr>\n",
       "      <th>10463</th>\n",
       "      <td>10464</td>\n",
       "      <td>2019.01.31. 17:33:02</td>\n",
       "      <td>Access granted</td>\n",
       "      <td>203</td>\n",
       "      <td>12</td>\n",
       "      <td>A66 - 04 FÕBEJÁRAT (F-1) Door #1</td>\n",
       "      <td>5</td>\n",
       "      <td>Rozsnyai Péter</td>\n",
       "      <td>0</td>\n",
       "      <td>NaN</td>\n",
       "      <td>0</td>\n",
       "      <td>NaN</td>\n",
       "      <td>00147:03442</td>\n",
       "      <td></td>\n",
       "      <td></td>\n",
       "    </tr>\n",
       "    <tr>\n",
       "      <th>10464</th>\n",
       "      <td>10465</td>\n",
       "      <td>2019.01.31. 17:34:07</td>\n",
       "      <td>Access granted</td>\n",
       "      <td>203</td>\n",
       "      <td>12</td>\n",
       "      <td>A66 - 12 Recepció (2-1) Door #1</td>\n",
       "      <td>5</td>\n",
       "      <td>Szõke Tamás</td>\n",
       "      <td>0</td>\n",
       "      <td>NaN</td>\n",
       "      <td>0</td>\n",
       "      <td>NaN</td>\n",
       "      <td>00151:37267</td>\n",
       "      <td></td>\n",
       "      <td></td>\n",
       "    </tr>\n",
       "    <tr>\n",
       "      <th>10465</th>\n",
       "      <td>10466</td>\n",
       "      <td>2019.01.31. 17:34:39</td>\n",
       "      <td>Access granted</td>\n",
       "      <td>203</td>\n",
       "      <td>12</td>\n",
       "      <td>A66 - 17 Recepció (3-1) Door #1</td>\n",
       "      <td>5</td>\n",
       "      <td>Bengyel Gábor</td>\n",
       "      <td>0</td>\n",
       "      <td>NaN</td>\n",
       "      <td>0</td>\n",
       "      <td>NaN</td>\n",
       "      <td>00152:32341</td>\n",
       "      <td></td>\n",
       "      <td></td>\n",
       "    </tr>\n",
       "    <tr>\n",
       "      <th>10466</th>\n",
       "      <td>10467</td>\n",
       "      <td>2019.01.31. 17:35:13</td>\n",
       "      <td>Access granted</td>\n",
       "      <td>203</td>\n",
       "      <td>12</td>\n",
       "      <td>A66 - 04 FÕBEJÁRAT (F-1) Door #1</td>\n",
       "      <td>5</td>\n",
       "      <td>Kalász Barnabás</td>\n",
       "      <td>0</td>\n",
       "      <td>NaN</td>\n",
       "      <td>0</td>\n",
       "      <td>NaN</td>\n",
       "      <td>00159:45378</td>\n",
       "      <td></td>\n",
       "      <td></td>\n",
       "    </tr>\n",
       "    <tr>\n",
       "      <th>10467</th>\n",
       "      <td>10468</td>\n",
       "      <td>2019.01.31. 17:36:06</td>\n",
       "      <td>Access granted</td>\n",
       "      <td>203</td>\n",
       "      <td>12</td>\n",
       "      <td>A66 - 17 Recepció (3-1) Door #1</td>\n",
       "      <td>5</td>\n",
       "      <td>Kalász Barnabás</td>\n",
       "      <td>0</td>\n",
       "      <td>NaN</td>\n",
       "      <td>0</td>\n",
       "      <td>NaN</td>\n",
       "      <td>00159:45378</td>\n",
       "      <td></td>\n",
       "      <td></td>\n",
       "    </tr>\n",
       "    <tr>\n",
       "      <th>10468</th>\n",
       "      <td>10469</td>\n",
       "      <td>2019.01.31. 17:44:33</td>\n",
       "      <td>Access granted</td>\n",
       "      <td>203</td>\n",
       "      <td>12</td>\n",
       "      <td>A66 - 12 Recepció (2-1) Door #1</td>\n",
       "      <td>5</td>\n",
       "      <td>Németh Krisztina</td>\n",
       "      <td>0</td>\n",
       "      <td>NaN</td>\n",
       "      <td>0</td>\n",
       "      <td>NaN</td>\n",
       "      <td>00147:18727</td>\n",
       "      <td></td>\n",
       "      <td></td>\n",
       "    </tr>\n",
       "    <tr>\n",
       "      <th>10469</th>\n",
       "      <td>10470</td>\n",
       "      <td>2019.01.31. 17:49:59</td>\n",
       "      <td>Access granted</td>\n",
       "      <td>203</td>\n",
       "      <td>12</td>\n",
       "      <td>A66 - 18 Elõtér 316 (3-2) Door #1</td>\n",
       "      <td>5</td>\n",
       "      <td>Juhász László</td>\n",
       "      <td>0</td>\n",
       "      <td>NaN</td>\n",
       "      <td>0</td>\n",
       "      <td>NaN</td>\n",
       "      <td>00066:62229</td>\n",
       "      <td></td>\n",
       "      <td></td>\n",
       "    </tr>\n",
       "    <tr>\n",
       "      <th>10470</th>\n",
       "      <td>10471</td>\n",
       "      <td>2019.01.31. 17:52:37</td>\n",
       "      <td>Access granted</td>\n",
       "      <td>203</td>\n",
       "      <td>12</td>\n",
       "      <td>A66 - 12 Recepció (2-1) Door #1</td>\n",
       "      <td>5</td>\n",
       "      <td>Juhász László</td>\n",
       "      <td>0</td>\n",
       "      <td>NaN</td>\n",
       "      <td>0</td>\n",
       "      <td>NaN</td>\n",
       "      <td>00066:62229</td>\n",
       "      <td></td>\n",
       "      <td></td>\n",
       "    </tr>\n",
       "    <tr>\n",
       "      <th>10471</th>\n",
       "      <td>10472</td>\n",
       "      <td>2019.01.31. 17:55:02</td>\n",
       "      <td>Access - door opened</td>\n",
       "      <td>201</td>\n",
       "      <td>12</td>\n",
       "      <td>A66 - 04 FÕBEJÁRAT (F-1) Door #1</td>\n",
       "      <td>5</td>\n",
       "      <td>Harald Carlston</td>\n",
       "      <td>0</td>\n",
       "      <td>NaN</td>\n",
       "      <td>0</td>\n",
       "      <td>NaN</td>\n",
       "      <td>00171:11499</td>\n",
       "      <td></td>\n",
       "      <td></td>\n",
       "    </tr>\n",
       "    <tr>\n",
       "      <th>10472</th>\n",
       "      <td>10473</td>\n",
       "      <td>2019.01.31. 17:58:09</td>\n",
       "      <td>Access granted</td>\n",
       "      <td>203</td>\n",
       "      <td>12</td>\n",
       "      <td>A66 - 06 Kávézó terasz (F-3) Door #1</td>\n",
       "      <td>5</td>\n",
       "      <td>Vadász Péter</td>\n",
       "      <td>0</td>\n",
       "      <td>NaN</td>\n",
       "      <td>0</td>\n",
       "      <td>NaN</td>\n",
       "      <td>00234:15510</td>\n",
       "      <td></td>\n",
       "      <td></td>\n",
       "    </tr>\n",
       "    <tr>\n",
       "      <th>10473</th>\n",
       "      <td>10474</td>\n",
       "      <td>2019.01.31. 17:58:50</td>\n",
       "      <td>Access granted</td>\n",
       "      <td>203</td>\n",
       "      <td>12</td>\n",
       "      <td>A66 - 04 FÕBEJÁRAT (F-1) Door #1</td>\n",
       "      <td>5</td>\n",
       "      <td>Németh Krisztina</td>\n",
       "      <td>0</td>\n",
       "      <td>NaN</td>\n",
       "      <td>0</td>\n",
       "      <td>NaN</td>\n",
       "      <td>00147:18727</td>\n",
       "      <td></td>\n",
       "      <td></td>\n",
       "    </tr>\n",
       "    <tr>\n",
       "      <th>10474</th>\n",
       "      <td>10475</td>\n",
       "      <td>2019.01.31. 17:58:54</td>\n",
       "      <td>Access granted</td>\n",
       "      <td>203</td>\n",
       "      <td>12</td>\n",
       "      <td>A66 - 06 Kávézó terasz (F-3) Door #1</td>\n",
       "      <td>5</td>\n",
       "      <td>Koronczi Richárd</td>\n",
       "      <td>0</td>\n",
       "      <td>NaN</td>\n",
       "      <td>0</td>\n",
       "      <td>NaN</td>\n",
       "      <td>00056:07178</td>\n",
       "      <td></td>\n",
       "      <td></td>\n",
       "    </tr>\n",
       "    <tr>\n",
       "      <th>10475</th>\n",
       "      <td>10476</td>\n",
       "      <td>2019.01.31. 17:59:24</td>\n",
       "      <td>Access granted</td>\n",
       "      <td>203</td>\n",
       "      <td>12</td>\n",
       "      <td>A66 - 06 Kávézó terasz (F-3) Door #1</td>\n",
       "      <td>5</td>\n",
       "      <td>Takács Róbert</td>\n",
       "      <td>0</td>\n",
       "      <td>NaN</td>\n",
       "      <td>0</td>\n",
       "      <td>NaN</td>\n",
       "      <td>00178:59777</td>\n",
       "      <td></td>\n",
       "      <td></td>\n",
       "    </tr>\n",
       "    <tr>\n",
       "      <th>10476</th>\n",
       "      <td>10477</td>\n",
       "      <td>2019.01.31. 18:01:03</td>\n",
       "      <td>Access granted</td>\n",
       "      <td>203</td>\n",
       "      <td>12</td>\n",
       "      <td>A66 - 17 Recepció (3-1) Door #1</td>\n",
       "      <td>5</td>\n",
       "      <td>Németh Krisztina</td>\n",
       "      <td>0</td>\n",
       "      <td>NaN</td>\n",
       "      <td>0</td>\n",
       "      <td>NaN</td>\n",
       "      <td>00147:18727</td>\n",
       "      <td></td>\n",
       "      <td></td>\n",
       "    </tr>\n",
       "    <tr>\n",
       "      <th>10477</th>\n",
       "      <td>10478</td>\n",
       "      <td>2019.01.31. 18:06:09</td>\n",
       "      <td>Access granted</td>\n",
       "      <td>203</td>\n",
       "      <td>12</td>\n",
       "      <td>A66 - 04 FÕBEJÁRAT (F-1) Door #1</td>\n",
       "      <td>5</td>\n",
       "      <td>Bánszegi Bence</td>\n",
       "      <td>0</td>\n",
       "      <td>NaN</td>\n",
       "      <td>0</td>\n",
       "      <td>NaN</td>\n",
       "      <td>00152:06741</td>\n",
       "      <td></td>\n",
       "      <td></td>\n",
       "    </tr>\n",
       "    <tr>\n",
       "      <th>10478</th>\n",
       "      <td>10479</td>\n",
       "      <td>2019.01.31. 18:11:59</td>\n",
       "      <td>Access granted</td>\n",
       "      <td>203</td>\n",
       "      <td>12</td>\n",
       "      <td>A66 - 12 Recepció (2-1) Door #1</td>\n",
       "      <td>5</td>\n",
       "      <td>Mazúr Gábor</td>\n",
       "      <td>0</td>\n",
       "      <td>NaN</td>\n",
       "      <td>0</td>\n",
       "      <td>NaN</td>\n",
       "      <td>00027:35293</td>\n",
       "      <td></td>\n",
       "      <td></td>\n",
       "    </tr>\n",
       "    <tr>\n",
       "      <th>10479</th>\n",
       "      <td>10480</td>\n",
       "      <td>2019.01.31. 18:14:57</td>\n",
       "      <td>Access granted</td>\n",
       "      <td>203</td>\n",
       "      <td>12</td>\n",
       "      <td>A66 - 18 Elõtér 316 (3-2) Door #1</td>\n",
       "      <td>5</td>\n",
       "      <td>Fábián Zsófia Eszter</td>\n",
       "      <td>0</td>\n",
       "      <td>NaN</td>\n",
       "      <td>0</td>\n",
       "      <td>NaN</td>\n",
       "      <td>00151:37333</td>\n",
       "      <td></td>\n",
       "      <td></td>\n",
       "    </tr>\n",
       "  </tbody>\n",
       "</table>\n",
       "<p>10480 rows × 15 columns</p>\n",
       "</div>"
      ],
      "text/plain": [
       "          Id         Date and Time         Event message  Event number  \\\n",
       "0          1   2019.01.02. 9:21:49        Access granted           203   \n",
       "1          2   2019.01.02. 9:22:54        Access granted           203   \n",
       "2          3   2019.01.02. 9:29:15        Access granted           203   \n",
       "3          4   2019.01.02. 9:31:19        Access granted           203   \n",
       "4          5   2019.01.02. 9:36:51        Access granted           203   \n",
       "5          6   2019.01.02. 9:38:00        Access granted           203   \n",
       "6          7   2019.01.02. 9:44:46        Access granted           203   \n",
       "7          8   2019.01.02. 9:46:16        Access granted           203   \n",
       "8          9  2019.01.02. 10:02:19        Access granted           203   \n",
       "9         10  2019.01.02. 10:03:26        Access granted           203   \n",
       "10        11  2019.01.02. 10:29:59        Access granted           203   \n",
       "11        12  2019.01.02. 10:30:58        Access granted           203   \n",
       "12        13  2019.01.02. 10:59:54        Access granted           203   \n",
       "13        14  2019.01.02. 11:02:12        Access granted           203   \n",
       "14        15  2019.01.02. 11:15:29        Access granted           203   \n",
       "15        16  2019.01.02. 11:16:21        Access granted           203   \n",
       "16        17  2019.01.02. 11:35:36        Access granted           203   \n",
       "17        18  2019.01.02. 11:36:54        Access granted           203   \n",
       "18        19  2019.01.02. 11:51:23        Access granted           203   \n",
       "19        20  2019.01.02. 11:52:52        Access granted           203   \n",
       "20        21  2019.01.02. 11:56:14        Access granted           203   \n",
       "21        22  2019.01.02. 11:57:12        Access granted           203   \n",
       "22        23  2019.01.02. 12:08:55        Access granted           203   \n",
       "23        24  2019.01.02. 12:40:04        Access granted           203   \n",
       "24        25  2019.01.02. 12:41:24        Access granted           203   \n",
       "25        26  2019.01.02. 12:50:29        Access granted           203   \n",
       "26        27  2019.01.02. 12:50:41        Access granted           203   \n",
       "27        28  2019.01.02. 12:51:12        Access granted           203   \n",
       "28        29  2019.01.02. 13:05:49        Access granted           203   \n",
       "29        30  2019.01.02. 13:06:50        Access granted           203   \n",
       "...      ...                   ...                   ...           ...   \n",
       "10450  10451  2019.01.31. 17:05:31        Access granted           203   \n",
       "10451  10452  2019.01.31. 17:05:45        Access granted           203   \n",
       "10452  10453  2019.01.31. 17:06:39        Access granted           203   \n",
       "10453  10454  2019.01.31. 17:10:37        Access granted           203   \n",
       "10454  10455  2019.01.31. 17:10:54        Access granted           203   \n",
       "10455  10456  2019.01.31. 17:11:04        Access granted           203   \n",
       "10456  10457  2019.01.31. 17:15:33        Access granted           203   \n",
       "10457  10458  2019.01.31. 17:20:29        Access granted           203   \n",
       "10458  10459  2019.01.31. 17:22:48        Access granted           203   \n",
       "10459  10460  2019.01.31. 17:23:54        Access granted           203   \n",
       "10460  10461  2019.01.31. 17:25:11        Access granted           203   \n",
       "10461  10462  2019.01.31. 17:29:48        Access granted           203   \n",
       "10462  10463  2019.01.31. 17:30:20        Access granted           203   \n",
       "10463  10464  2019.01.31. 17:33:02        Access granted           203   \n",
       "10464  10465  2019.01.31. 17:34:07        Access granted           203   \n",
       "10465  10466  2019.01.31. 17:34:39        Access granted           203   \n",
       "10466  10467  2019.01.31. 17:35:13        Access granted           203   \n",
       "10467  10468  2019.01.31. 17:36:06        Access granted           203   \n",
       "10468  10469  2019.01.31. 17:44:33        Access granted           203   \n",
       "10469  10470  2019.01.31. 17:49:59        Access granted           203   \n",
       "10470  10471  2019.01.31. 17:52:37        Access granted           203   \n",
       "10471  10472  2019.01.31. 17:55:02  Access - door opened           201   \n",
       "10472  10473  2019.01.31. 17:58:09        Access granted           203   \n",
       "10473  10474  2019.01.31. 17:58:50        Access granted           203   \n",
       "10474  10475  2019.01.31. 17:58:54        Access granted           203   \n",
       "10475  10476  2019.01.31. 17:59:24        Access granted           203   \n",
       "10476  10477  2019.01.31. 18:01:03        Access granted           203   \n",
       "10477  10478  2019.01.31. 18:06:09        Access granted           203   \n",
       "10478  10479  2019.01.31. 18:11:59        Access granted           203   \n",
       "10479  10480  2019.01.31. 18:14:57        Access granted           203   \n",
       "\n",
       "       Object #1                        Description #1  Object #2  \\\n",
       "0             12      A66 - 04 FÕBEJÁRAT (F-1) Door #1          5   \n",
       "1             12       A66 - 17 Recepció (3-1) Door #1          5   \n",
       "2             12       A66 - 12 Recepció (2-1) Door #1          5   \n",
       "3             12       A66 - 17 Recepció (3-1) Door #1          5   \n",
       "4             12      A66 - 04 FÕBEJÁRAT (F-1) Door #1          5   \n",
       "5             12       A66 - 17 Recepció (3-1) Door #1          5   \n",
       "6             12      A66 - 04 FÕBEJÁRAT (F-1) Door #1          5   \n",
       "7             12       A66 - 17 Recepció (3-1) Door #1          5   \n",
       "8             12      A66 - 04 FÕBEJÁRAT (F-1) Door #1          5   \n",
       "9             12       A66 - 17 Recepció (3-1) Door #1          5   \n",
       "10            12      A66 - 04 FÕBEJÁRAT (F-1) Door #1          5   \n",
       "11            12       A66 - 17 Recepció (3-1) Door #1          5   \n",
       "12            12      A66 - 04 FÕBEJÁRAT (F-1) Door #1          5   \n",
       "13            12       A66 - 12 Recepció (2-1) Door #1          5   \n",
       "14            12      A66 - 04 FÕBEJÁRAT (F-1) Door #1          5   \n",
       "15            12       A66 - 12 Recepció (2-1) Door #1          5   \n",
       "16            12      A66 - 04 FÕBEJÁRAT (F-1) Door #1          5   \n",
       "17            12       A66 - 17 Recepció (3-1) Door #1          5   \n",
       "18            12      A66 - 04 FÕBEJÁRAT (F-1) Door #1          5   \n",
       "19            12       A66 - 17 Recepció (3-1) Door #1          5   \n",
       "20            12      A66 - 04 FÕBEJÁRAT (F-1) Door #1          5   \n",
       "21            12       A66 - 12 Recepció (2-1) Door #1          5   \n",
       "22            12       A66 - 17 Recepció (3-1) Door #1          5   \n",
       "23            12      A66 - 04 FÕBEJÁRAT (F-1) Door #1          5   \n",
       "24            12       A66 - 17 Recepció (3-1) Door #1          5   \n",
       "25            12      A66 - 04 FÕBEJÁRAT (F-1) Door #1          5   \n",
       "26            12      A66 - 04 FÕBEJÁRAT (F-1) Door #1          5   \n",
       "27            12       A66 - 12 Recepció (2-1) Door #1          5   \n",
       "28            12      A66 - 04 FÕBEJÁRAT (F-1) Door #1          5   \n",
       "29            12       A66 - 12 Recepció (2-1) Door #1          5   \n",
       "...          ...                                   ...        ...   \n",
       "10450         12  A66 - 06 Kávézó terasz (F-3) Door #1          5   \n",
       "10451         12      A66 - 04 FÕBEJÁRAT (F-1) Door #1          5   \n",
       "10452         12       A66 - 17 Recepció (3-1) Door #1          5   \n",
       "10453         12  A66 - 06 Kávézó terasz (F-3) Door #1          5   \n",
       "10454         12  A66 - 06 Kávézó terasz (F-3) Door #1          5   \n",
       "10455         12  A66 - 06 Kávézó terasz (F-3) Door #1          5   \n",
       "10456         12       A66 - 12 Recepció (2-1) Door #1          5   \n",
       "10457         12  A66 - 06 Kávézó terasz (F-3) Door #1          5   \n",
       "10458         12       A66 - 12 Recepció (2-1) Door #1          5   \n",
       "10459         12     A66 - 13 Elõtér 216 (2-2) Door #1          5   \n",
       "10460         12       A66 - 17 Recepció (3-1) Door #1          5   \n",
       "10461         12       A66 - 17 Recepció (3-1) Door #1          5   \n",
       "10462         12  A66 - 06 Kávézó terasz (F-3) Door #1          5   \n",
       "10463         12      A66 - 04 FÕBEJÁRAT (F-1) Door #1          5   \n",
       "10464         12       A66 - 12 Recepció (2-1) Door #1          5   \n",
       "10465         12       A66 - 17 Recepció (3-1) Door #1          5   \n",
       "10466         12      A66 - 04 FÕBEJÁRAT (F-1) Door #1          5   \n",
       "10467         12       A66 - 17 Recepció (3-1) Door #1          5   \n",
       "10468         12       A66 - 12 Recepció (2-1) Door #1          5   \n",
       "10469         12     A66 - 18 Elõtér 316 (3-2) Door #1          5   \n",
       "10470         12       A66 - 12 Recepció (2-1) Door #1          5   \n",
       "10471         12      A66 - 04 FÕBEJÁRAT (F-1) Door #1          5   \n",
       "10472         12  A66 - 06 Kávézó terasz (F-3) Door #1          5   \n",
       "10473         12      A66 - 04 FÕBEJÁRAT (F-1) Door #1          5   \n",
       "10474         12  A66 - 06 Kávézó terasz (F-3) Door #1          5   \n",
       "10475         12  A66 - 06 Kávézó terasz (F-3) Door #1          5   \n",
       "10476         12       A66 - 17 Recepció (3-1) Door #1          5   \n",
       "10477         12      A66 - 04 FÕBEJÁRAT (F-1) Door #1          5   \n",
       "10478         12       A66 - 12 Recepció (2-1) Door #1          5   \n",
       "10479         12     A66 - 18 Elõtér 316 (3-2) Door #1          5   \n",
       "\n",
       "             Description #2  Object #3  Description #3  Object #4  \\\n",
       "0            Czender András          0             NaN          0   \n",
       "1            Czender András          0             NaN          0   \n",
       "2               Puskás Nóra          0             NaN          0   \n",
       "3               Puskás Nóra          0             NaN          0   \n",
       "4               Ripka Péter          0             NaN          0   \n",
       "5               Ripka Péter          0             NaN          0   \n",
       "6             Szívós István          0             NaN          0   \n",
       "7             Szívós István          0             NaN          0   \n",
       "8          Megyaszai Dániel          0             NaN          0   \n",
       "9          Megyaszai Dániel          0             NaN          0   \n",
       "10              Bakó Farkas          0             NaN          0   \n",
       "11              Bakó Farkas          0             NaN          0   \n",
       "12            Noszka András          0             NaN          0   \n",
       "13            Noszka András          0             NaN          0   \n",
       "14         Németh Krisztina          0             NaN          0   \n",
       "15         Németh Krisztina          0             NaN          0   \n",
       "16             Nagy Csongor          0             NaN          0   \n",
       "17             Nagy Csongor          0             NaN          0   \n",
       "18            Szívós István          0             NaN          0   \n",
       "19            Szívós István          0             NaN          0   \n",
       "20            Noszka András          0             NaN          0   \n",
       "21            Noszka András          0             NaN          0   \n",
       "22         Megyaszai Dániel          0             NaN          0   \n",
       "23             Szirmai Dóra          0             NaN          0   \n",
       "24             Szirmai Dóra          0             NaN          0   \n",
       "25              Puskás Nóra          0             NaN          0   \n",
       "26              Antal Péter          0             NaN          0   \n",
       "27              Puskás Nóra          0             NaN          0   \n",
       "28              Antal Péter          0             NaN          0   \n",
       "29              Antal Péter          0             NaN          0   \n",
       "...                     ...        ...             ...        ...   \n",
       "10450            Gál Zsuzsa          0             NaN          0   \n",
       "10451       Kalász Barnabás          0             NaN          0   \n",
       "10452            Tóth Lilla          0             NaN          0   \n",
       "10453        Császári Noémi          0             NaN          0   \n",
       "10454        Berbardo Diana          0             NaN          0   \n",
       "10455        Kelemen Balázs          0             NaN          0   \n",
       "10456          Szirmai Dóra          0             NaN          0   \n",
       "10457           Lévai Péter          0             NaN          0   \n",
       "10458         Noszka András          0             NaN          0   \n",
       "10459        Morvay Gergely          0             NaN          0   \n",
       "10460          Szirmai Dóra          0             NaN          0   \n",
       "10461      Németh Krisztina          0             NaN          0   \n",
       "10462       Külüs Zsuzsanna          0             NaN          0   \n",
       "10463        Rozsnyai Péter          0             NaN          0   \n",
       "10464           Szõke Tamás          0             NaN          0   \n",
       "10465         Bengyel Gábor          0             NaN          0   \n",
       "10466       Kalász Barnabás          0             NaN          0   \n",
       "10467       Kalász Barnabás          0             NaN          0   \n",
       "10468      Németh Krisztina          0             NaN          0   \n",
       "10469         Juhász László          0             NaN          0   \n",
       "10470         Juhász László          0             NaN          0   \n",
       "10471       Harald Carlston          0             NaN          0   \n",
       "10472          Vadász Péter          0             NaN          0   \n",
       "10473      Németh Krisztina          0             NaN          0   \n",
       "10474      Koronczi Richárd          0             NaN          0   \n",
       "10475         Takács Róbert          0             NaN          0   \n",
       "10476      Németh Krisztina          0             NaN          0   \n",
       "10477        Bánszegi Bence          0             NaN          0   \n",
       "10478           Mazúr Gábor          0             NaN          0   \n",
       "10479  Fábián Zsófia Eszter          0             NaN          0   \n",
       "\n",
       "       Description #4  Card number date time  \n",
       "0                 NaN  00215:09895            \n",
       "1                 NaN  00215:09895            \n",
       "2                 NaN  00059:58046            \n",
       "3                 NaN  00059:58046            \n",
       "4                 NaN  00110:57041            \n",
       "5                 NaN  00110:57041            \n",
       "6                 NaN  00008:58673            \n",
       "7                 NaN  00008:58673            \n",
       "8                 NaN  00055:39162            \n",
       "9                 NaN  00055:39162            \n",
       "10                NaN  00152:61253            \n",
       "11                NaN  00152:61253            \n",
       "12                NaN  00249:15139            \n",
       "13                NaN  00249:15139            \n",
       "14                NaN  00147:18727            \n",
       "15                NaN  00147:18727            \n",
       "16                NaN  00006:33914            \n",
       "17                NaN  00006:33914            \n",
       "18                NaN  00008:58673            \n",
       "19                NaN  00008:58673            \n",
       "20                NaN  00249:15139            \n",
       "21                NaN  00249:15139            \n",
       "22                NaN  00055:39162            \n",
       "23                NaN  00082:08465            \n",
       "24                NaN  00082:08465            \n",
       "25                NaN  00059:58046            \n",
       "26                NaN  00137:45989            \n",
       "27                NaN  00059:58046            \n",
       "28                NaN  00137:45989            \n",
       "29                NaN  00137:45989            \n",
       "...               ...          ...  ...  ...  \n",
       "10450             NaN  00137:44965            \n",
       "10451             NaN  00159:45378            \n",
       "10452             NaN  00169:38418            \n",
       "10453             NaN  00066:49877            \n",
       "10454             NaN  00118:62699            \n",
       "10455             NaN  00156:24003            \n",
       "10456             NaN  00082:08465            \n",
       "10457             NaN  00186:21741            \n",
       "10458             NaN  00249:15139            \n",
       "10459             NaN  00214:48881            \n",
       "10460             NaN  00082:08465            \n",
       "10461             NaN  00147:18727            \n",
       "10462             NaN  00003:50701            \n",
       "10463             NaN  00147:03442            \n",
       "10464             NaN  00151:37267            \n",
       "10465             NaN  00152:32341            \n",
       "10466             NaN  00159:45378            \n",
       "10467             NaN  00159:45378            \n",
       "10468             NaN  00147:18727            \n",
       "10469             NaN  00066:62229            \n",
       "10470             NaN  00066:62229            \n",
       "10471             NaN  00171:11499            \n",
       "10472             NaN  00234:15510            \n",
       "10473             NaN  00147:18727            \n",
       "10474             NaN  00056:07178            \n",
       "10475             NaN  00178:59777            \n",
       "10476             NaN  00147:18727            \n",
       "10477             NaN  00152:06741            \n",
       "10478             NaN  00027:35293            \n",
       "10479             NaN  00151:37333            \n",
       "\n",
       "[10480 rows x 15 columns]"
      ]
     },
     "execution_count": 157,
     "metadata": {},
     "output_type": "execute_result"
    }
   ],
   "source": [
    "entry_log[\"date\"]=\"\"\n",
    "entry_log[\"time\"]=\"\"\n",
    "entry_log"
   ]
  },
  {
   "cell_type": "markdown",
   "metadata": {},
   "source": [
    "# mean, median,deviation of the arrival time"
   ]
  },
  {
   "cell_type": "code",
   "execution_count": 97,
   "metadata": {},
   "outputs": [
    {
     "name": "stdout",
     "output_type": "stream",
     "text": [
      "the mean time is: 11:32:52\n",
      "the median time is: 10:36:40\n",
      "the standard deviation time is: 2:57:26\n"
     ]
    }
   ],
   "source": [
    "arrival_time=entry_log[entry_log['Description #1'] == \"A66 - 04 FÕBEJÁRAT (F-1) Door #1\"][\"Date and Time\"]\n",
    "arrival_time_index=list(arrival_time.index)\n",
    "time=[]\n",
    "for date_time in arrival_time:\n",
    "    time_parts=date_time.split()[-1].split(\":\")\n",
    "    time.append(time_parts)\n",
    "time_in_seconds=[]\n",
    "\n",
    "for t in time:\n",
    "    time_in_seconds.append(int(t[0])*3600+int(t[1])*60+int(t[2]))\n",
    "time_in_seconds=pd.Series(time_in_seconds)\n",
    "mean_time = time_in_seconds.mean()\n",
    "median_time=time_in_seconds.median()\n",
    "deviation_time=time_in_seconds.std()\n",
    "\n",
    "print(\"the mean time is:\", calculate_time(mean_time))\n",
    "print(\"the median time is:\", calculate_time(median_time))\n",
    "print(\"the standard deviation time is:\", calculate_time(deviation_time))"
   ]
  },
  {
   "cell_type": "code",
   "execution_count": 60,
   "metadata": {},
   "outputs": [],
   "source": [
    "def calculate_time(time_in_seconds):\n",
    "    time=time_in_seconds\n",
    "    hour  =time_in_seconds//3600\n",
    "    time -= hour*3600\n",
    "    minute =time//60\n",
    "    seconds =time-minute*60\n",
    "    return f\"{int(hour)}:{int(minute)}:{round(seconds)}\"\n"
   ]
  },
  {
   "cell_type": "markdown",
   "metadata": {},
   "source": [
    "# late arrival"
   ]
  },
  {
   "cell_type": "code",
   "execution_count": 103,
   "metadata": {},
   "outputs": [
    {
     "name": "stdout",
     "output_type": "stream",
     "text": [
      "the mean late time in minute is: 235.49793103448275 minutes\n",
      "the median late time in minute is: 241.0 minutes\n",
      "the person: Szõke Tamás with card number 00152:06741 was late for 657 minutes\n"
     ]
    }
   ],
   "source": [
    "late_time=[]\n",
    "late_time_inedx=[]\n",
    "for date_time,ind in zip(arrival_time,arrival_time_index):\n",
    "    time_parts=date_time.split()[-1].split(\":\")\n",
    "    if int(time_parts[0])>9 or (int(time_parts[0])==9 and (int(time_parts[1])>0 or int(time_parts[2])>0)):\n",
    "        late_time.append(time_parts)\n",
    "        late_time_inedx.append(ind)\n",
    "late_time_minutes=[]\n",
    "for t in late_time:\n",
    "    late_time_minutes.append(int(t[0])*60+int(t[1])+round(int(t[2])/60)-9*60)\n",
    "late_time_minutes=pd.Series(late_time_minutes)\n",
    "\n",
    "most_late_person_index= late_time_inedx[late_time_minutes[late_time_minutes==late_time_minutes.max()].index[0]]\n",
    "most_late_minutes=late_time_minutes.max()\n",
    "most_late_person_name=entry_log.loc[most_late_person_index][\"Description #2\"]\n",
    "most_late_card_number=entry_log.loc[most_late_person_index][\"Card number\"]\n",
    "\n",
    "print(f\"the average late time in minute is: {late_time_minutes.mean()} minutes\",)\n",
    "print(f\"the median late time in minute is: {late_time_minutes.median()} minutes\",)\n",
    "print(f\"the person: {most_late_person} with card number {most_late_card_number} was late for {most_late_minutes} minutes\")"
   ]
  },
  {
   "cell_type": "code",
   "execution_count": 159,
   "metadata": {},
   "outputs": [],
   "source": [
    "for date_time,ind in zip(entry_log[\"Date and Time\"],entry_log.index):\n",
    "    date=date_time.split()[0]\n",
    "    time=date_time.split()[1]\n",
    "    entry_log.loc[ind,\"date\"]=date\n",
    "    entry_log.loc[ind,\"time\"]=time\n",
    "   "
   ]
  },
  {
   "cell_type": "code",
   "execution_count": 165,
   "metadata": {},
   "outputs": [
    {
     "data": {
      "text/html": [
       "<div>\n",
       "<style scoped>\n",
       "    .dataframe tbody tr th:only-of-type {\n",
       "        vertical-align: middle;\n",
       "    }\n",
       "\n",
       "    .dataframe tbody tr th {\n",
       "        vertical-align: top;\n",
       "    }\n",
       "\n",
       "    .dataframe thead th {\n",
       "        text-align: right;\n",
       "    }\n",
       "</style>\n",
       "<table border=\"1\" class=\"dataframe\">\n",
       "  <thead>\n",
       "    <tr style=\"text-align: right;\">\n",
       "      <th></th>\n",
       "      <th>Id</th>\n",
       "      <th>Date and Time</th>\n",
       "      <th>Event message</th>\n",
       "      <th>Event number</th>\n",
       "      <th>Object #1</th>\n",
       "      <th>Description #1</th>\n",
       "      <th>Object #2</th>\n",
       "      <th>Description #2</th>\n",
       "      <th>Object #3</th>\n",
       "      <th>Description #3</th>\n",
       "      <th>Object #4</th>\n",
       "      <th>Description #4</th>\n",
       "      <th>Card number</th>\n",
       "      <th>date</th>\n",
       "      <th>time</th>\n",
       "    </tr>\n",
       "  </thead>\n",
       "  <tbody>\n",
       "    <tr>\n",
       "      <th>0</th>\n",
       "      <td>1</td>\n",
       "      <td>2019.01.02. 9:21:49</td>\n",
       "      <td>Access granted</td>\n",
       "      <td>203</td>\n",
       "      <td>12</td>\n",
       "      <td>A66 - 04 FÕBEJÁRAT (F-1) Door #1</td>\n",
       "      <td>5</td>\n",
       "      <td>Czender András</td>\n",
       "      <td>0</td>\n",
       "      <td>NaN</td>\n",
       "      <td>0</td>\n",
       "      <td>NaN</td>\n",
       "      <td>00215:09895</td>\n",
       "      <td>2019.01.02.</td>\n",
       "      <td>9:21:49</td>\n",
       "    </tr>\n",
       "    <tr>\n",
       "      <th>1</th>\n",
       "      <td>2</td>\n",
       "      <td>2019.01.02. 9:22:54</td>\n",
       "      <td>Access granted</td>\n",
       "      <td>203</td>\n",
       "      <td>12</td>\n",
       "      <td>A66 - 17 Recepció (3-1) Door #1</td>\n",
       "      <td>5</td>\n",
       "      <td>Czender András</td>\n",
       "      <td>0</td>\n",
       "      <td>NaN</td>\n",
       "      <td>0</td>\n",
       "      <td>NaN</td>\n",
       "      <td>00215:09895</td>\n",
       "      <td>2019.01.02.</td>\n",
       "      <td>9:22:54</td>\n",
       "    </tr>\n",
       "    <tr>\n",
       "      <th>2</th>\n",
       "      <td>3</td>\n",
       "      <td>2019.01.02. 9:29:15</td>\n",
       "      <td>Access granted</td>\n",
       "      <td>203</td>\n",
       "      <td>12</td>\n",
       "      <td>A66 - 12 Recepció (2-1) Door #1</td>\n",
       "      <td>5</td>\n",
       "      <td>Puskás Nóra</td>\n",
       "      <td>0</td>\n",
       "      <td>NaN</td>\n",
       "      <td>0</td>\n",
       "      <td>NaN</td>\n",
       "      <td>00059:58046</td>\n",
       "      <td>2019.01.02.</td>\n",
       "      <td>9:29:15</td>\n",
       "    </tr>\n",
       "    <tr>\n",
       "      <th>3</th>\n",
       "      <td>4</td>\n",
       "      <td>2019.01.02. 9:31:19</td>\n",
       "      <td>Access granted</td>\n",
       "      <td>203</td>\n",
       "      <td>12</td>\n",
       "      <td>A66 - 17 Recepció (3-1) Door #1</td>\n",
       "      <td>5</td>\n",
       "      <td>Puskás Nóra</td>\n",
       "      <td>0</td>\n",
       "      <td>NaN</td>\n",
       "      <td>0</td>\n",
       "      <td>NaN</td>\n",
       "      <td>00059:58046</td>\n",
       "      <td>2019.01.02.</td>\n",
       "      <td>9:31:19</td>\n",
       "    </tr>\n",
       "    <tr>\n",
       "      <th>4</th>\n",
       "      <td>5</td>\n",
       "      <td>2019.01.02. 9:36:51</td>\n",
       "      <td>Access granted</td>\n",
       "      <td>203</td>\n",
       "      <td>12</td>\n",
       "      <td>A66 - 04 FÕBEJÁRAT (F-1) Door #1</td>\n",
       "      <td>5</td>\n",
       "      <td>Ripka Péter</td>\n",
       "      <td>0</td>\n",
       "      <td>NaN</td>\n",
       "      <td>0</td>\n",
       "      <td>NaN</td>\n",
       "      <td>00110:57041</td>\n",
       "      <td>2019.01.02.</td>\n",
       "      <td>9:36:51</td>\n",
       "    </tr>\n",
       "    <tr>\n",
       "      <th>5</th>\n",
       "      <td>6</td>\n",
       "      <td>2019.01.02. 9:38:00</td>\n",
       "      <td>Access granted</td>\n",
       "      <td>203</td>\n",
       "      <td>12</td>\n",
       "      <td>A66 - 17 Recepció (3-1) Door #1</td>\n",
       "      <td>5</td>\n",
       "      <td>Ripka Péter</td>\n",
       "      <td>0</td>\n",
       "      <td>NaN</td>\n",
       "      <td>0</td>\n",
       "      <td>NaN</td>\n",
       "      <td>00110:57041</td>\n",
       "      <td>2019.01.02.</td>\n",
       "      <td>9:38:00</td>\n",
       "    </tr>\n",
       "    <tr>\n",
       "      <th>6</th>\n",
       "      <td>7</td>\n",
       "      <td>2019.01.02. 9:44:46</td>\n",
       "      <td>Access granted</td>\n",
       "      <td>203</td>\n",
       "      <td>12</td>\n",
       "      <td>A66 - 04 FÕBEJÁRAT (F-1) Door #1</td>\n",
       "      <td>5</td>\n",
       "      <td>Szívós István</td>\n",
       "      <td>0</td>\n",
       "      <td>NaN</td>\n",
       "      <td>0</td>\n",
       "      <td>NaN</td>\n",
       "      <td>00008:58673</td>\n",
       "      <td>2019.01.02.</td>\n",
       "      <td>9:44:46</td>\n",
       "    </tr>\n",
       "    <tr>\n",
       "      <th>7</th>\n",
       "      <td>8</td>\n",
       "      <td>2019.01.02. 9:46:16</td>\n",
       "      <td>Access granted</td>\n",
       "      <td>203</td>\n",
       "      <td>12</td>\n",
       "      <td>A66 - 17 Recepció (3-1) Door #1</td>\n",
       "      <td>5</td>\n",
       "      <td>Szívós István</td>\n",
       "      <td>0</td>\n",
       "      <td>NaN</td>\n",
       "      <td>0</td>\n",
       "      <td>NaN</td>\n",
       "      <td>00008:58673</td>\n",
       "      <td>2019.01.02.</td>\n",
       "      <td>9:46:16</td>\n",
       "    </tr>\n",
       "    <tr>\n",
       "      <th>8</th>\n",
       "      <td>9</td>\n",
       "      <td>2019.01.02. 10:02:19</td>\n",
       "      <td>Access granted</td>\n",
       "      <td>203</td>\n",
       "      <td>12</td>\n",
       "      <td>A66 - 04 FÕBEJÁRAT (F-1) Door #1</td>\n",
       "      <td>5</td>\n",
       "      <td>Megyaszai Dániel</td>\n",
       "      <td>0</td>\n",
       "      <td>NaN</td>\n",
       "      <td>0</td>\n",
       "      <td>NaN</td>\n",
       "      <td>00055:39162</td>\n",
       "      <td>2019.01.02.</td>\n",
       "      <td>10:02:19</td>\n",
       "    </tr>\n",
       "    <tr>\n",
       "      <th>9</th>\n",
       "      <td>10</td>\n",
       "      <td>2019.01.02. 10:03:26</td>\n",
       "      <td>Access granted</td>\n",
       "      <td>203</td>\n",
       "      <td>12</td>\n",
       "      <td>A66 - 17 Recepció (3-1) Door #1</td>\n",
       "      <td>5</td>\n",
       "      <td>Megyaszai Dániel</td>\n",
       "      <td>0</td>\n",
       "      <td>NaN</td>\n",
       "      <td>0</td>\n",
       "      <td>NaN</td>\n",
       "      <td>00055:39162</td>\n",
       "      <td>2019.01.02.</td>\n",
       "      <td>10:03:26</td>\n",
       "    </tr>\n",
       "    <tr>\n",
       "      <th>10</th>\n",
       "      <td>11</td>\n",
       "      <td>2019.01.02. 10:29:59</td>\n",
       "      <td>Access granted</td>\n",
       "      <td>203</td>\n",
       "      <td>12</td>\n",
       "      <td>A66 - 04 FÕBEJÁRAT (F-1) Door #1</td>\n",
       "      <td>5</td>\n",
       "      <td>Bakó Farkas</td>\n",
       "      <td>0</td>\n",
       "      <td>NaN</td>\n",
       "      <td>0</td>\n",
       "      <td>NaN</td>\n",
       "      <td>00152:61253</td>\n",
       "      <td>2019.01.02.</td>\n",
       "      <td>10:29:59</td>\n",
       "    </tr>\n",
       "    <tr>\n",
       "      <th>11</th>\n",
       "      <td>12</td>\n",
       "      <td>2019.01.02. 10:30:58</td>\n",
       "      <td>Access granted</td>\n",
       "      <td>203</td>\n",
       "      <td>12</td>\n",
       "      <td>A66 - 17 Recepció (3-1) Door #1</td>\n",
       "      <td>5</td>\n",
       "      <td>Bakó Farkas</td>\n",
       "      <td>0</td>\n",
       "      <td>NaN</td>\n",
       "      <td>0</td>\n",
       "      <td>NaN</td>\n",
       "      <td>00152:61253</td>\n",
       "      <td>2019.01.02.</td>\n",
       "      <td>10:30:58</td>\n",
       "    </tr>\n",
       "    <tr>\n",
       "      <th>12</th>\n",
       "      <td>13</td>\n",
       "      <td>2019.01.02. 10:59:54</td>\n",
       "      <td>Access granted</td>\n",
       "      <td>203</td>\n",
       "      <td>12</td>\n",
       "      <td>A66 - 04 FÕBEJÁRAT (F-1) Door #1</td>\n",
       "      <td>5</td>\n",
       "      <td>Noszka András</td>\n",
       "      <td>0</td>\n",
       "      <td>NaN</td>\n",
       "      <td>0</td>\n",
       "      <td>NaN</td>\n",
       "      <td>00249:15139</td>\n",
       "      <td>2019.01.02.</td>\n",
       "      <td>10:59:54</td>\n",
       "    </tr>\n",
       "    <tr>\n",
       "      <th>13</th>\n",
       "      <td>14</td>\n",
       "      <td>2019.01.02. 11:02:12</td>\n",
       "      <td>Access granted</td>\n",
       "      <td>203</td>\n",
       "      <td>12</td>\n",
       "      <td>A66 - 12 Recepció (2-1) Door #1</td>\n",
       "      <td>5</td>\n",
       "      <td>Noszka András</td>\n",
       "      <td>0</td>\n",
       "      <td>NaN</td>\n",
       "      <td>0</td>\n",
       "      <td>NaN</td>\n",
       "      <td>00249:15139</td>\n",
       "      <td>2019.01.02.</td>\n",
       "      <td>11:02:12</td>\n",
       "    </tr>\n",
       "    <tr>\n",
       "      <th>14</th>\n",
       "      <td>15</td>\n",
       "      <td>2019.01.02. 11:15:29</td>\n",
       "      <td>Access granted</td>\n",
       "      <td>203</td>\n",
       "      <td>12</td>\n",
       "      <td>A66 - 04 FÕBEJÁRAT (F-1) Door #1</td>\n",
       "      <td>5</td>\n",
       "      <td>Németh Krisztina</td>\n",
       "      <td>0</td>\n",
       "      <td>NaN</td>\n",
       "      <td>0</td>\n",
       "      <td>NaN</td>\n",
       "      <td>00147:18727</td>\n",
       "      <td>2019.01.02.</td>\n",
       "      <td>11:15:29</td>\n",
       "    </tr>\n",
       "    <tr>\n",
       "      <th>15</th>\n",
       "      <td>16</td>\n",
       "      <td>2019.01.02. 11:16:21</td>\n",
       "      <td>Access granted</td>\n",
       "      <td>203</td>\n",
       "      <td>12</td>\n",
       "      <td>A66 - 12 Recepció (2-1) Door #1</td>\n",
       "      <td>5</td>\n",
       "      <td>Németh Krisztina</td>\n",
       "      <td>0</td>\n",
       "      <td>NaN</td>\n",
       "      <td>0</td>\n",
       "      <td>NaN</td>\n",
       "      <td>00147:18727</td>\n",
       "      <td>2019.01.02.</td>\n",
       "      <td>11:16:21</td>\n",
       "    </tr>\n",
       "    <tr>\n",
       "      <th>16</th>\n",
       "      <td>17</td>\n",
       "      <td>2019.01.02. 11:35:36</td>\n",
       "      <td>Access granted</td>\n",
       "      <td>203</td>\n",
       "      <td>12</td>\n",
       "      <td>A66 - 04 FÕBEJÁRAT (F-1) Door #1</td>\n",
       "      <td>5</td>\n",
       "      <td>Nagy Csongor</td>\n",
       "      <td>0</td>\n",
       "      <td>NaN</td>\n",
       "      <td>0</td>\n",
       "      <td>NaN</td>\n",
       "      <td>00006:33914</td>\n",
       "      <td>2019.01.02.</td>\n",
       "      <td>11:35:36</td>\n",
       "    </tr>\n",
       "    <tr>\n",
       "      <th>17</th>\n",
       "      <td>18</td>\n",
       "      <td>2019.01.02. 11:36:54</td>\n",
       "      <td>Access granted</td>\n",
       "      <td>203</td>\n",
       "      <td>12</td>\n",
       "      <td>A66 - 17 Recepció (3-1) Door #1</td>\n",
       "      <td>5</td>\n",
       "      <td>Nagy Csongor</td>\n",
       "      <td>0</td>\n",
       "      <td>NaN</td>\n",
       "      <td>0</td>\n",
       "      <td>NaN</td>\n",
       "      <td>00006:33914</td>\n",
       "      <td>2019.01.02.</td>\n",
       "      <td>11:36:54</td>\n",
       "    </tr>\n",
       "    <tr>\n",
       "      <th>18</th>\n",
       "      <td>19</td>\n",
       "      <td>2019.01.02. 11:51:23</td>\n",
       "      <td>Access granted</td>\n",
       "      <td>203</td>\n",
       "      <td>12</td>\n",
       "      <td>A66 - 04 FÕBEJÁRAT (F-1) Door #1</td>\n",
       "      <td>5</td>\n",
       "      <td>Szívós István</td>\n",
       "      <td>0</td>\n",
       "      <td>NaN</td>\n",
       "      <td>0</td>\n",
       "      <td>NaN</td>\n",
       "      <td>00008:58673</td>\n",
       "      <td>2019.01.02.</td>\n",
       "      <td>11:51:23</td>\n",
       "    </tr>\n",
       "    <tr>\n",
       "      <th>19</th>\n",
       "      <td>20</td>\n",
       "      <td>2019.01.02. 11:52:52</td>\n",
       "      <td>Access granted</td>\n",
       "      <td>203</td>\n",
       "      <td>12</td>\n",
       "      <td>A66 - 17 Recepció (3-1) Door #1</td>\n",
       "      <td>5</td>\n",
       "      <td>Szívós István</td>\n",
       "      <td>0</td>\n",
       "      <td>NaN</td>\n",
       "      <td>0</td>\n",
       "      <td>NaN</td>\n",
       "      <td>00008:58673</td>\n",
       "      <td>2019.01.02.</td>\n",
       "      <td>11:52:52</td>\n",
       "    </tr>\n",
       "    <tr>\n",
       "      <th>20</th>\n",
       "      <td>21</td>\n",
       "      <td>2019.01.02. 11:56:14</td>\n",
       "      <td>Access granted</td>\n",
       "      <td>203</td>\n",
       "      <td>12</td>\n",
       "      <td>A66 - 04 FÕBEJÁRAT (F-1) Door #1</td>\n",
       "      <td>5</td>\n",
       "      <td>Noszka András</td>\n",
       "      <td>0</td>\n",
       "      <td>NaN</td>\n",
       "      <td>0</td>\n",
       "      <td>NaN</td>\n",
       "      <td>00249:15139</td>\n",
       "      <td>2019.01.02.</td>\n",
       "      <td>11:56:14</td>\n",
       "    </tr>\n",
       "    <tr>\n",
       "      <th>21</th>\n",
       "      <td>22</td>\n",
       "      <td>2019.01.02. 11:57:12</td>\n",
       "      <td>Access granted</td>\n",
       "      <td>203</td>\n",
       "      <td>12</td>\n",
       "      <td>A66 - 12 Recepció (2-1) Door #1</td>\n",
       "      <td>5</td>\n",
       "      <td>Noszka András</td>\n",
       "      <td>0</td>\n",
       "      <td>NaN</td>\n",
       "      <td>0</td>\n",
       "      <td>NaN</td>\n",
       "      <td>00249:15139</td>\n",
       "      <td>2019.01.02.</td>\n",
       "      <td>11:57:12</td>\n",
       "    </tr>\n",
       "    <tr>\n",
       "      <th>22</th>\n",
       "      <td>23</td>\n",
       "      <td>2019.01.02. 12:08:55</td>\n",
       "      <td>Access granted</td>\n",
       "      <td>203</td>\n",
       "      <td>12</td>\n",
       "      <td>A66 - 17 Recepció (3-1) Door #1</td>\n",
       "      <td>5</td>\n",
       "      <td>Megyaszai Dániel</td>\n",
       "      <td>0</td>\n",
       "      <td>NaN</td>\n",
       "      <td>0</td>\n",
       "      <td>NaN</td>\n",
       "      <td>00055:39162</td>\n",
       "      <td>2019.01.02.</td>\n",
       "      <td>12:08:55</td>\n",
       "    </tr>\n",
       "    <tr>\n",
       "      <th>23</th>\n",
       "      <td>24</td>\n",
       "      <td>2019.01.02. 12:40:04</td>\n",
       "      <td>Access granted</td>\n",
       "      <td>203</td>\n",
       "      <td>12</td>\n",
       "      <td>A66 - 04 FÕBEJÁRAT (F-1) Door #1</td>\n",
       "      <td>5</td>\n",
       "      <td>Szirmai Dóra</td>\n",
       "      <td>0</td>\n",
       "      <td>NaN</td>\n",
       "      <td>0</td>\n",
       "      <td>NaN</td>\n",
       "      <td>00082:08465</td>\n",
       "      <td>2019.01.02.</td>\n",
       "      <td>12:40:04</td>\n",
       "    </tr>\n",
       "    <tr>\n",
       "      <th>24</th>\n",
       "      <td>25</td>\n",
       "      <td>2019.01.02. 12:41:24</td>\n",
       "      <td>Access granted</td>\n",
       "      <td>203</td>\n",
       "      <td>12</td>\n",
       "      <td>A66 - 17 Recepció (3-1) Door #1</td>\n",
       "      <td>5</td>\n",
       "      <td>Szirmai Dóra</td>\n",
       "      <td>0</td>\n",
       "      <td>NaN</td>\n",
       "      <td>0</td>\n",
       "      <td>NaN</td>\n",
       "      <td>00082:08465</td>\n",
       "      <td>2019.01.02.</td>\n",
       "      <td>12:41:24</td>\n",
       "    </tr>\n",
       "    <tr>\n",
       "      <th>25</th>\n",
       "      <td>26</td>\n",
       "      <td>2019.01.02. 12:50:29</td>\n",
       "      <td>Access granted</td>\n",
       "      <td>203</td>\n",
       "      <td>12</td>\n",
       "      <td>A66 - 04 FÕBEJÁRAT (F-1) Door #1</td>\n",
       "      <td>5</td>\n",
       "      <td>Puskás Nóra</td>\n",
       "      <td>0</td>\n",
       "      <td>NaN</td>\n",
       "      <td>0</td>\n",
       "      <td>NaN</td>\n",
       "      <td>00059:58046</td>\n",
       "      <td>2019.01.02.</td>\n",
       "      <td>12:50:29</td>\n",
       "    </tr>\n",
       "    <tr>\n",
       "      <th>26</th>\n",
       "      <td>27</td>\n",
       "      <td>2019.01.02. 12:50:41</td>\n",
       "      <td>Access granted</td>\n",
       "      <td>203</td>\n",
       "      <td>12</td>\n",
       "      <td>A66 - 04 FÕBEJÁRAT (F-1) Door #1</td>\n",
       "      <td>5</td>\n",
       "      <td>Antal Péter</td>\n",
       "      <td>0</td>\n",
       "      <td>NaN</td>\n",
       "      <td>0</td>\n",
       "      <td>NaN</td>\n",
       "      <td>00137:45989</td>\n",
       "      <td>2019.01.02.</td>\n",
       "      <td>12:50:41</td>\n",
       "    </tr>\n",
       "    <tr>\n",
       "      <th>27</th>\n",
       "      <td>28</td>\n",
       "      <td>2019.01.02. 12:51:12</td>\n",
       "      <td>Access granted</td>\n",
       "      <td>203</td>\n",
       "      <td>12</td>\n",
       "      <td>A66 - 12 Recepció (2-1) Door #1</td>\n",
       "      <td>5</td>\n",
       "      <td>Puskás Nóra</td>\n",
       "      <td>0</td>\n",
       "      <td>NaN</td>\n",
       "      <td>0</td>\n",
       "      <td>NaN</td>\n",
       "      <td>00059:58046</td>\n",
       "      <td>2019.01.02.</td>\n",
       "      <td>12:51:12</td>\n",
       "    </tr>\n",
       "    <tr>\n",
       "      <th>28</th>\n",
       "      <td>29</td>\n",
       "      <td>2019.01.02. 13:05:49</td>\n",
       "      <td>Access granted</td>\n",
       "      <td>203</td>\n",
       "      <td>12</td>\n",
       "      <td>A66 - 04 FÕBEJÁRAT (F-1) Door #1</td>\n",
       "      <td>5</td>\n",
       "      <td>Antal Péter</td>\n",
       "      <td>0</td>\n",
       "      <td>NaN</td>\n",
       "      <td>0</td>\n",
       "      <td>NaN</td>\n",
       "      <td>00137:45989</td>\n",
       "      <td>2019.01.02.</td>\n",
       "      <td>13:05:49</td>\n",
       "    </tr>\n",
       "    <tr>\n",
       "      <th>29</th>\n",
       "      <td>30</td>\n",
       "      <td>2019.01.02. 13:06:50</td>\n",
       "      <td>Access granted</td>\n",
       "      <td>203</td>\n",
       "      <td>12</td>\n",
       "      <td>A66 - 12 Recepció (2-1) Door #1</td>\n",
       "      <td>5</td>\n",
       "      <td>Antal Péter</td>\n",
       "      <td>0</td>\n",
       "      <td>NaN</td>\n",
       "      <td>0</td>\n",
       "      <td>NaN</td>\n",
       "      <td>00137:45989</td>\n",
       "      <td>2019.01.02.</td>\n",
       "      <td>13:06:50</td>\n",
       "    </tr>\n",
       "    <tr>\n",
       "      <th>...</th>\n",
       "      <td>...</td>\n",
       "      <td>...</td>\n",
       "      <td>...</td>\n",
       "      <td>...</td>\n",
       "      <td>...</td>\n",
       "      <td>...</td>\n",
       "      <td>...</td>\n",
       "      <td>...</td>\n",
       "      <td>...</td>\n",
       "      <td>...</td>\n",
       "      <td>...</td>\n",
       "      <td>...</td>\n",
       "      <td>...</td>\n",
       "      <td>...</td>\n",
       "      <td>...</td>\n",
       "    </tr>\n",
       "    <tr>\n",
       "      <th>10450</th>\n",
       "      <td>10451</td>\n",
       "      <td>2019.01.31. 17:05:31</td>\n",
       "      <td>Access granted</td>\n",
       "      <td>203</td>\n",
       "      <td>12</td>\n",
       "      <td>A66 - 06 Kávézó terasz (F-3) Door #1</td>\n",
       "      <td>5</td>\n",
       "      <td>Gál Zsuzsa</td>\n",
       "      <td>0</td>\n",
       "      <td>NaN</td>\n",
       "      <td>0</td>\n",
       "      <td>NaN</td>\n",
       "      <td>00137:44965</td>\n",
       "      <td>2019.01.31.</td>\n",
       "      <td>17:05:31</td>\n",
       "    </tr>\n",
       "    <tr>\n",
       "      <th>10451</th>\n",
       "      <td>10452</td>\n",
       "      <td>2019.01.31. 17:05:45</td>\n",
       "      <td>Access granted</td>\n",
       "      <td>203</td>\n",
       "      <td>12</td>\n",
       "      <td>A66 - 04 FÕBEJÁRAT (F-1) Door #1</td>\n",
       "      <td>5</td>\n",
       "      <td>Kalász Barnabás</td>\n",
       "      <td>0</td>\n",
       "      <td>NaN</td>\n",
       "      <td>0</td>\n",
       "      <td>NaN</td>\n",
       "      <td>00159:45378</td>\n",
       "      <td>2019.01.31.</td>\n",
       "      <td>17:05:45</td>\n",
       "    </tr>\n",
       "    <tr>\n",
       "      <th>10452</th>\n",
       "      <td>10453</td>\n",
       "      <td>2019.01.31. 17:06:39</td>\n",
       "      <td>Access granted</td>\n",
       "      <td>203</td>\n",
       "      <td>12</td>\n",
       "      <td>A66 - 17 Recepció (3-1) Door #1</td>\n",
       "      <td>5</td>\n",
       "      <td>Tóth Lilla</td>\n",
       "      <td>0</td>\n",
       "      <td>NaN</td>\n",
       "      <td>0</td>\n",
       "      <td>NaN</td>\n",
       "      <td>00169:38418</td>\n",
       "      <td>2019.01.31.</td>\n",
       "      <td>17:06:39</td>\n",
       "    </tr>\n",
       "    <tr>\n",
       "      <th>10453</th>\n",
       "      <td>10454</td>\n",
       "      <td>2019.01.31. 17:10:37</td>\n",
       "      <td>Access granted</td>\n",
       "      <td>203</td>\n",
       "      <td>12</td>\n",
       "      <td>A66 - 06 Kávézó terasz (F-3) Door #1</td>\n",
       "      <td>5</td>\n",
       "      <td>Császári Noémi</td>\n",
       "      <td>0</td>\n",
       "      <td>NaN</td>\n",
       "      <td>0</td>\n",
       "      <td>NaN</td>\n",
       "      <td>00066:49877</td>\n",
       "      <td>2019.01.31.</td>\n",
       "      <td>17:10:37</td>\n",
       "    </tr>\n",
       "    <tr>\n",
       "      <th>10454</th>\n",
       "      <td>10455</td>\n",
       "      <td>2019.01.31. 17:10:54</td>\n",
       "      <td>Access granted</td>\n",
       "      <td>203</td>\n",
       "      <td>12</td>\n",
       "      <td>A66 - 06 Kávézó terasz (F-3) Door #1</td>\n",
       "      <td>5</td>\n",
       "      <td>Berbardo Diana</td>\n",
       "      <td>0</td>\n",
       "      <td>NaN</td>\n",
       "      <td>0</td>\n",
       "      <td>NaN</td>\n",
       "      <td>00118:62699</td>\n",
       "      <td>2019.01.31.</td>\n",
       "      <td>17:10:54</td>\n",
       "    </tr>\n",
       "    <tr>\n",
       "      <th>10455</th>\n",
       "      <td>10456</td>\n",
       "      <td>2019.01.31. 17:11:04</td>\n",
       "      <td>Access granted</td>\n",
       "      <td>203</td>\n",
       "      <td>12</td>\n",
       "      <td>A66 - 06 Kávézó terasz (F-3) Door #1</td>\n",
       "      <td>5</td>\n",
       "      <td>Kelemen Balázs</td>\n",
       "      <td>0</td>\n",
       "      <td>NaN</td>\n",
       "      <td>0</td>\n",
       "      <td>NaN</td>\n",
       "      <td>00156:24003</td>\n",
       "      <td>2019.01.31.</td>\n",
       "      <td>17:11:04</td>\n",
       "    </tr>\n",
       "    <tr>\n",
       "      <th>10456</th>\n",
       "      <td>10457</td>\n",
       "      <td>2019.01.31. 17:15:33</td>\n",
       "      <td>Access granted</td>\n",
       "      <td>203</td>\n",
       "      <td>12</td>\n",
       "      <td>A66 - 12 Recepció (2-1) Door #1</td>\n",
       "      <td>5</td>\n",
       "      <td>Szirmai Dóra</td>\n",
       "      <td>0</td>\n",
       "      <td>NaN</td>\n",
       "      <td>0</td>\n",
       "      <td>NaN</td>\n",
       "      <td>00082:08465</td>\n",
       "      <td>2019.01.31.</td>\n",
       "      <td>17:15:33</td>\n",
       "    </tr>\n",
       "    <tr>\n",
       "      <th>10457</th>\n",
       "      <td>10458</td>\n",
       "      <td>2019.01.31. 17:20:29</td>\n",
       "      <td>Access granted</td>\n",
       "      <td>203</td>\n",
       "      <td>12</td>\n",
       "      <td>A66 - 06 Kávézó terasz (F-3) Door #1</td>\n",
       "      <td>5</td>\n",
       "      <td>Lévai Péter</td>\n",
       "      <td>0</td>\n",
       "      <td>NaN</td>\n",
       "      <td>0</td>\n",
       "      <td>NaN</td>\n",
       "      <td>00186:21741</td>\n",
       "      <td>2019.01.31.</td>\n",
       "      <td>17:20:29</td>\n",
       "    </tr>\n",
       "    <tr>\n",
       "      <th>10458</th>\n",
       "      <td>10459</td>\n",
       "      <td>2019.01.31. 17:22:48</td>\n",
       "      <td>Access granted</td>\n",
       "      <td>203</td>\n",
       "      <td>12</td>\n",
       "      <td>A66 - 12 Recepció (2-1) Door #1</td>\n",
       "      <td>5</td>\n",
       "      <td>Noszka András</td>\n",
       "      <td>0</td>\n",
       "      <td>NaN</td>\n",
       "      <td>0</td>\n",
       "      <td>NaN</td>\n",
       "      <td>00249:15139</td>\n",
       "      <td>2019.01.31.</td>\n",
       "      <td>17:22:48</td>\n",
       "    </tr>\n",
       "    <tr>\n",
       "      <th>10459</th>\n",
       "      <td>10460</td>\n",
       "      <td>2019.01.31. 17:23:54</td>\n",
       "      <td>Access granted</td>\n",
       "      <td>203</td>\n",
       "      <td>12</td>\n",
       "      <td>A66 - 13 Elõtér 216 (2-2) Door #1</td>\n",
       "      <td>5</td>\n",
       "      <td>Morvay Gergely</td>\n",
       "      <td>0</td>\n",
       "      <td>NaN</td>\n",
       "      <td>0</td>\n",
       "      <td>NaN</td>\n",
       "      <td>00214:48881</td>\n",
       "      <td>2019.01.31.</td>\n",
       "      <td>17:23:54</td>\n",
       "    </tr>\n",
       "    <tr>\n",
       "      <th>10460</th>\n",
       "      <td>10461</td>\n",
       "      <td>2019.01.31. 17:25:11</td>\n",
       "      <td>Access granted</td>\n",
       "      <td>203</td>\n",
       "      <td>12</td>\n",
       "      <td>A66 - 17 Recepció (3-1) Door #1</td>\n",
       "      <td>5</td>\n",
       "      <td>Szirmai Dóra</td>\n",
       "      <td>0</td>\n",
       "      <td>NaN</td>\n",
       "      <td>0</td>\n",
       "      <td>NaN</td>\n",
       "      <td>00082:08465</td>\n",
       "      <td>2019.01.31.</td>\n",
       "      <td>17:25:11</td>\n",
       "    </tr>\n",
       "    <tr>\n",
       "      <th>10461</th>\n",
       "      <td>10462</td>\n",
       "      <td>2019.01.31. 17:29:48</td>\n",
       "      <td>Access granted</td>\n",
       "      <td>203</td>\n",
       "      <td>12</td>\n",
       "      <td>A66 - 17 Recepció (3-1) Door #1</td>\n",
       "      <td>5</td>\n",
       "      <td>Németh Krisztina</td>\n",
       "      <td>0</td>\n",
       "      <td>NaN</td>\n",
       "      <td>0</td>\n",
       "      <td>NaN</td>\n",
       "      <td>00147:18727</td>\n",
       "      <td>2019.01.31.</td>\n",
       "      <td>17:29:48</td>\n",
       "    </tr>\n",
       "    <tr>\n",
       "      <th>10462</th>\n",
       "      <td>10463</td>\n",
       "      <td>2019.01.31. 17:30:20</td>\n",
       "      <td>Access granted</td>\n",
       "      <td>203</td>\n",
       "      <td>12</td>\n",
       "      <td>A66 - 06 Kávézó terasz (F-3) Door #1</td>\n",
       "      <td>5</td>\n",
       "      <td>Külüs Zsuzsanna</td>\n",
       "      <td>0</td>\n",
       "      <td>NaN</td>\n",
       "      <td>0</td>\n",
       "      <td>NaN</td>\n",
       "      <td>00003:50701</td>\n",
       "      <td>2019.01.31.</td>\n",
       "      <td>17:30:20</td>\n",
       "    </tr>\n",
       "    <tr>\n",
       "      <th>10463</th>\n",
       "      <td>10464</td>\n",
       "      <td>2019.01.31. 17:33:02</td>\n",
       "      <td>Access granted</td>\n",
       "      <td>203</td>\n",
       "      <td>12</td>\n",
       "      <td>A66 - 04 FÕBEJÁRAT (F-1) Door #1</td>\n",
       "      <td>5</td>\n",
       "      <td>Rozsnyai Péter</td>\n",
       "      <td>0</td>\n",
       "      <td>NaN</td>\n",
       "      <td>0</td>\n",
       "      <td>NaN</td>\n",
       "      <td>00147:03442</td>\n",
       "      <td>2019.01.31.</td>\n",
       "      <td>17:33:02</td>\n",
       "    </tr>\n",
       "    <tr>\n",
       "      <th>10464</th>\n",
       "      <td>10465</td>\n",
       "      <td>2019.01.31. 17:34:07</td>\n",
       "      <td>Access granted</td>\n",
       "      <td>203</td>\n",
       "      <td>12</td>\n",
       "      <td>A66 - 12 Recepció (2-1) Door #1</td>\n",
       "      <td>5</td>\n",
       "      <td>Szõke Tamás</td>\n",
       "      <td>0</td>\n",
       "      <td>NaN</td>\n",
       "      <td>0</td>\n",
       "      <td>NaN</td>\n",
       "      <td>00151:37267</td>\n",
       "      <td>2019.01.31.</td>\n",
       "      <td>17:34:07</td>\n",
       "    </tr>\n",
       "    <tr>\n",
       "      <th>10465</th>\n",
       "      <td>10466</td>\n",
       "      <td>2019.01.31. 17:34:39</td>\n",
       "      <td>Access granted</td>\n",
       "      <td>203</td>\n",
       "      <td>12</td>\n",
       "      <td>A66 - 17 Recepció (3-1) Door #1</td>\n",
       "      <td>5</td>\n",
       "      <td>Bengyel Gábor</td>\n",
       "      <td>0</td>\n",
       "      <td>NaN</td>\n",
       "      <td>0</td>\n",
       "      <td>NaN</td>\n",
       "      <td>00152:32341</td>\n",
       "      <td>2019.01.31.</td>\n",
       "      <td>17:34:39</td>\n",
       "    </tr>\n",
       "    <tr>\n",
       "      <th>10466</th>\n",
       "      <td>10467</td>\n",
       "      <td>2019.01.31. 17:35:13</td>\n",
       "      <td>Access granted</td>\n",
       "      <td>203</td>\n",
       "      <td>12</td>\n",
       "      <td>A66 - 04 FÕBEJÁRAT (F-1) Door #1</td>\n",
       "      <td>5</td>\n",
       "      <td>Kalász Barnabás</td>\n",
       "      <td>0</td>\n",
       "      <td>NaN</td>\n",
       "      <td>0</td>\n",
       "      <td>NaN</td>\n",
       "      <td>00159:45378</td>\n",
       "      <td>2019.01.31.</td>\n",
       "      <td>17:35:13</td>\n",
       "    </tr>\n",
       "    <tr>\n",
       "      <th>10467</th>\n",
       "      <td>10468</td>\n",
       "      <td>2019.01.31. 17:36:06</td>\n",
       "      <td>Access granted</td>\n",
       "      <td>203</td>\n",
       "      <td>12</td>\n",
       "      <td>A66 - 17 Recepció (3-1) Door #1</td>\n",
       "      <td>5</td>\n",
       "      <td>Kalász Barnabás</td>\n",
       "      <td>0</td>\n",
       "      <td>NaN</td>\n",
       "      <td>0</td>\n",
       "      <td>NaN</td>\n",
       "      <td>00159:45378</td>\n",
       "      <td>2019.01.31.</td>\n",
       "      <td>17:36:06</td>\n",
       "    </tr>\n",
       "    <tr>\n",
       "      <th>10468</th>\n",
       "      <td>10469</td>\n",
       "      <td>2019.01.31. 17:44:33</td>\n",
       "      <td>Access granted</td>\n",
       "      <td>203</td>\n",
       "      <td>12</td>\n",
       "      <td>A66 - 12 Recepció (2-1) Door #1</td>\n",
       "      <td>5</td>\n",
       "      <td>Németh Krisztina</td>\n",
       "      <td>0</td>\n",
       "      <td>NaN</td>\n",
       "      <td>0</td>\n",
       "      <td>NaN</td>\n",
       "      <td>00147:18727</td>\n",
       "      <td>2019.01.31.</td>\n",
       "      <td>17:44:33</td>\n",
       "    </tr>\n",
       "    <tr>\n",
       "      <th>10469</th>\n",
       "      <td>10470</td>\n",
       "      <td>2019.01.31. 17:49:59</td>\n",
       "      <td>Access granted</td>\n",
       "      <td>203</td>\n",
       "      <td>12</td>\n",
       "      <td>A66 - 18 Elõtér 316 (3-2) Door #1</td>\n",
       "      <td>5</td>\n",
       "      <td>Juhász László</td>\n",
       "      <td>0</td>\n",
       "      <td>NaN</td>\n",
       "      <td>0</td>\n",
       "      <td>NaN</td>\n",
       "      <td>00066:62229</td>\n",
       "      <td>2019.01.31.</td>\n",
       "      <td>17:49:59</td>\n",
       "    </tr>\n",
       "    <tr>\n",
       "      <th>10470</th>\n",
       "      <td>10471</td>\n",
       "      <td>2019.01.31. 17:52:37</td>\n",
       "      <td>Access granted</td>\n",
       "      <td>203</td>\n",
       "      <td>12</td>\n",
       "      <td>A66 - 12 Recepció (2-1) Door #1</td>\n",
       "      <td>5</td>\n",
       "      <td>Juhász László</td>\n",
       "      <td>0</td>\n",
       "      <td>NaN</td>\n",
       "      <td>0</td>\n",
       "      <td>NaN</td>\n",
       "      <td>00066:62229</td>\n",
       "      <td>2019.01.31.</td>\n",
       "      <td>17:52:37</td>\n",
       "    </tr>\n",
       "    <tr>\n",
       "      <th>10471</th>\n",
       "      <td>10472</td>\n",
       "      <td>2019.01.31. 17:55:02</td>\n",
       "      <td>Access - door opened</td>\n",
       "      <td>201</td>\n",
       "      <td>12</td>\n",
       "      <td>A66 - 04 FÕBEJÁRAT (F-1) Door #1</td>\n",
       "      <td>5</td>\n",
       "      <td>Harald Carlston</td>\n",
       "      <td>0</td>\n",
       "      <td>NaN</td>\n",
       "      <td>0</td>\n",
       "      <td>NaN</td>\n",
       "      <td>00171:11499</td>\n",
       "      <td>2019.01.31.</td>\n",
       "      <td>17:55:02</td>\n",
       "    </tr>\n",
       "    <tr>\n",
       "      <th>10472</th>\n",
       "      <td>10473</td>\n",
       "      <td>2019.01.31. 17:58:09</td>\n",
       "      <td>Access granted</td>\n",
       "      <td>203</td>\n",
       "      <td>12</td>\n",
       "      <td>A66 - 06 Kávézó terasz (F-3) Door #1</td>\n",
       "      <td>5</td>\n",
       "      <td>Vadász Péter</td>\n",
       "      <td>0</td>\n",
       "      <td>NaN</td>\n",
       "      <td>0</td>\n",
       "      <td>NaN</td>\n",
       "      <td>00234:15510</td>\n",
       "      <td>2019.01.31.</td>\n",
       "      <td>17:58:09</td>\n",
       "    </tr>\n",
       "    <tr>\n",
       "      <th>10473</th>\n",
       "      <td>10474</td>\n",
       "      <td>2019.01.31. 17:58:50</td>\n",
       "      <td>Access granted</td>\n",
       "      <td>203</td>\n",
       "      <td>12</td>\n",
       "      <td>A66 - 04 FÕBEJÁRAT (F-1) Door #1</td>\n",
       "      <td>5</td>\n",
       "      <td>Németh Krisztina</td>\n",
       "      <td>0</td>\n",
       "      <td>NaN</td>\n",
       "      <td>0</td>\n",
       "      <td>NaN</td>\n",
       "      <td>00147:18727</td>\n",
       "      <td>2019.01.31.</td>\n",
       "      <td>17:58:50</td>\n",
       "    </tr>\n",
       "    <tr>\n",
       "      <th>10474</th>\n",
       "      <td>10475</td>\n",
       "      <td>2019.01.31. 17:58:54</td>\n",
       "      <td>Access granted</td>\n",
       "      <td>203</td>\n",
       "      <td>12</td>\n",
       "      <td>A66 - 06 Kávézó terasz (F-3) Door #1</td>\n",
       "      <td>5</td>\n",
       "      <td>Koronczi Richárd</td>\n",
       "      <td>0</td>\n",
       "      <td>NaN</td>\n",
       "      <td>0</td>\n",
       "      <td>NaN</td>\n",
       "      <td>00056:07178</td>\n",
       "      <td>2019.01.31.</td>\n",
       "      <td>17:58:54</td>\n",
       "    </tr>\n",
       "    <tr>\n",
       "      <th>10475</th>\n",
       "      <td>10476</td>\n",
       "      <td>2019.01.31. 17:59:24</td>\n",
       "      <td>Access granted</td>\n",
       "      <td>203</td>\n",
       "      <td>12</td>\n",
       "      <td>A66 - 06 Kávézó terasz (F-3) Door #1</td>\n",
       "      <td>5</td>\n",
       "      <td>Takács Róbert</td>\n",
       "      <td>0</td>\n",
       "      <td>NaN</td>\n",
       "      <td>0</td>\n",
       "      <td>NaN</td>\n",
       "      <td>00178:59777</td>\n",
       "      <td>2019.01.31.</td>\n",
       "      <td>17:59:24</td>\n",
       "    </tr>\n",
       "    <tr>\n",
       "      <th>10476</th>\n",
       "      <td>10477</td>\n",
       "      <td>2019.01.31. 18:01:03</td>\n",
       "      <td>Access granted</td>\n",
       "      <td>203</td>\n",
       "      <td>12</td>\n",
       "      <td>A66 - 17 Recepció (3-1) Door #1</td>\n",
       "      <td>5</td>\n",
       "      <td>Németh Krisztina</td>\n",
       "      <td>0</td>\n",
       "      <td>NaN</td>\n",
       "      <td>0</td>\n",
       "      <td>NaN</td>\n",
       "      <td>00147:18727</td>\n",
       "      <td>2019.01.31.</td>\n",
       "      <td>18:01:03</td>\n",
       "    </tr>\n",
       "    <tr>\n",
       "      <th>10477</th>\n",
       "      <td>10478</td>\n",
       "      <td>2019.01.31. 18:06:09</td>\n",
       "      <td>Access granted</td>\n",
       "      <td>203</td>\n",
       "      <td>12</td>\n",
       "      <td>A66 - 04 FÕBEJÁRAT (F-1) Door #1</td>\n",
       "      <td>5</td>\n",
       "      <td>Bánszegi Bence</td>\n",
       "      <td>0</td>\n",
       "      <td>NaN</td>\n",
       "      <td>0</td>\n",
       "      <td>NaN</td>\n",
       "      <td>00152:06741</td>\n",
       "      <td>2019.01.31.</td>\n",
       "      <td>18:06:09</td>\n",
       "    </tr>\n",
       "    <tr>\n",
       "      <th>10478</th>\n",
       "      <td>10479</td>\n",
       "      <td>2019.01.31. 18:11:59</td>\n",
       "      <td>Access granted</td>\n",
       "      <td>203</td>\n",
       "      <td>12</td>\n",
       "      <td>A66 - 12 Recepció (2-1) Door #1</td>\n",
       "      <td>5</td>\n",
       "      <td>Mazúr Gábor</td>\n",
       "      <td>0</td>\n",
       "      <td>NaN</td>\n",
       "      <td>0</td>\n",
       "      <td>NaN</td>\n",
       "      <td>00027:35293</td>\n",
       "      <td>2019.01.31.</td>\n",
       "      <td>18:11:59</td>\n",
       "    </tr>\n",
       "    <tr>\n",
       "      <th>10479</th>\n",
       "      <td>10480</td>\n",
       "      <td>2019.01.31. 18:14:57</td>\n",
       "      <td>Access granted</td>\n",
       "      <td>203</td>\n",
       "      <td>12</td>\n",
       "      <td>A66 - 18 Elõtér 316 (3-2) Door #1</td>\n",
       "      <td>5</td>\n",
       "      <td>Fábián Zsófia Eszter</td>\n",
       "      <td>0</td>\n",
       "      <td>NaN</td>\n",
       "      <td>0</td>\n",
       "      <td>NaN</td>\n",
       "      <td>00151:37333</td>\n",
       "      <td>2019.01.31.</td>\n",
       "      <td>18:14:57</td>\n",
       "    </tr>\n",
       "  </tbody>\n",
       "</table>\n",
       "<p>10480 rows × 15 columns</p>\n",
       "</div>"
      ],
      "text/plain": [
       "          Id         Date and Time         Event message  Event number  \\\n",
       "0          1   2019.01.02. 9:21:49        Access granted           203   \n",
       "1          2   2019.01.02. 9:22:54        Access granted           203   \n",
       "2          3   2019.01.02. 9:29:15        Access granted           203   \n",
       "3          4   2019.01.02. 9:31:19        Access granted           203   \n",
       "4          5   2019.01.02. 9:36:51        Access granted           203   \n",
       "5          6   2019.01.02. 9:38:00        Access granted           203   \n",
       "6          7   2019.01.02. 9:44:46        Access granted           203   \n",
       "7          8   2019.01.02. 9:46:16        Access granted           203   \n",
       "8          9  2019.01.02. 10:02:19        Access granted           203   \n",
       "9         10  2019.01.02. 10:03:26        Access granted           203   \n",
       "10        11  2019.01.02. 10:29:59        Access granted           203   \n",
       "11        12  2019.01.02. 10:30:58        Access granted           203   \n",
       "12        13  2019.01.02. 10:59:54        Access granted           203   \n",
       "13        14  2019.01.02. 11:02:12        Access granted           203   \n",
       "14        15  2019.01.02. 11:15:29        Access granted           203   \n",
       "15        16  2019.01.02. 11:16:21        Access granted           203   \n",
       "16        17  2019.01.02. 11:35:36        Access granted           203   \n",
       "17        18  2019.01.02. 11:36:54        Access granted           203   \n",
       "18        19  2019.01.02. 11:51:23        Access granted           203   \n",
       "19        20  2019.01.02. 11:52:52        Access granted           203   \n",
       "20        21  2019.01.02. 11:56:14        Access granted           203   \n",
       "21        22  2019.01.02. 11:57:12        Access granted           203   \n",
       "22        23  2019.01.02. 12:08:55        Access granted           203   \n",
       "23        24  2019.01.02. 12:40:04        Access granted           203   \n",
       "24        25  2019.01.02. 12:41:24        Access granted           203   \n",
       "25        26  2019.01.02. 12:50:29        Access granted           203   \n",
       "26        27  2019.01.02. 12:50:41        Access granted           203   \n",
       "27        28  2019.01.02. 12:51:12        Access granted           203   \n",
       "28        29  2019.01.02. 13:05:49        Access granted           203   \n",
       "29        30  2019.01.02. 13:06:50        Access granted           203   \n",
       "...      ...                   ...                   ...           ...   \n",
       "10450  10451  2019.01.31. 17:05:31        Access granted           203   \n",
       "10451  10452  2019.01.31. 17:05:45        Access granted           203   \n",
       "10452  10453  2019.01.31. 17:06:39        Access granted           203   \n",
       "10453  10454  2019.01.31. 17:10:37        Access granted           203   \n",
       "10454  10455  2019.01.31. 17:10:54        Access granted           203   \n",
       "10455  10456  2019.01.31. 17:11:04        Access granted           203   \n",
       "10456  10457  2019.01.31. 17:15:33        Access granted           203   \n",
       "10457  10458  2019.01.31. 17:20:29        Access granted           203   \n",
       "10458  10459  2019.01.31. 17:22:48        Access granted           203   \n",
       "10459  10460  2019.01.31. 17:23:54        Access granted           203   \n",
       "10460  10461  2019.01.31. 17:25:11        Access granted           203   \n",
       "10461  10462  2019.01.31. 17:29:48        Access granted           203   \n",
       "10462  10463  2019.01.31. 17:30:20        Access granted           203   \n",
       "10463  10464  2019.01.31. 17:33:02        Access granted           203   \n",
       "10464  10465  2019.01.31. 17:34:07        Access granted           203   \n",
       "10465  10466  2019.01.31. 17:34:39        Access granted           203   \n",
       "10466  10467  2019.01.31. 17:35:13        Access granted           203   \n",
       "10467  10468  2019.01.31. 17:36:06        Access granted           203   \n",
       "10468  10469  2019.01.31. 17:44:33        Access granted           203   \n",
       "10469  10470  2019.01.31. 17:49:59        Access granted           203   \n",
       "10470  10471  2019.01.31. 17:52:37        Access granted           203   \n",
       "10471  10472  2019.01.31. 17:55:02  Access - door opened           201   \n",
       "10472  10473  2019.01.31. 17:58:09        Access granted           203   \n",
       "10473  10474  2019.01.31. 17:58:50        Access granted           203   \n",
       "10474  10475  2019.01.31. 17:58:54        Access granted           203   \n",
       "10475  10476  2019.01.31. 17:59:24        Access granted           203   \n",
       "10476  10477  2019.01.31. 18:01:03        Access granted           203   \n",
       "10477  10478  2019.01.31. 18:06:09        Access granted           203   \n",
       "10478  10479  2019.01.31. 18:11:59        Access granted           203   \n",
       "10479  10480  2019.01.31. 18:14:57        Access granted           203   \n",
       "\n",
       "       Object #1                        Description #1  Object #2  \\\n",
       "0             12      A66 - 04 FÕBEJÁRAT (F-1) Door #1          5   \n",
       "1             12       A66 - 17 Recepció (3-1) Door #1          5   \n",
       "2             12       A66 - 12 Recepció (2-1) Door #1          5   \n",
       "3             12       A66 - 17 Recepció (3-1) Door #1          5   \n",
       "4             12      A66 - 04 FÕBEJÁRAT (F-1) Door #1          5   \n",
       "5             12       A66 - 17 Recepció (3-1) Door #1          5   \n",
       "6             12      A66 - 04 FÕBEJÁRAT (F-1) Door #1          5   \n",
       "7             12       A66 - 17 Recepció (3-1) Door #1          5   \n",
       "8             12      A66 - 04 FÕBEJÁRAT (F-1) Door #1          5   \n",
       "9             12       A66 - 17 Recepció (3-1) Door #1          5   \n",
       "10            12      A66 - 04 FÕBEJÁRAT (F-1) Door #1          5   \n",
       "11            12       A66 - 17 Recepció (3-1) Door #1          5   \n",
       "12            12      A66 - 04 FÕBEJÁRAT (F-1) Door #1          5   \n",
       "13            12       A66 - 12 Recepció (2-1) Door #1          5   \n",
       "14            12      A66 - 04 FÕBEJÁRAT (F-1) Door #1          5   \n",
       "15            12       A66 - 12 Recepció (2-1) Door #1          5   \n",
       "16            12      A66 - 04 FÕBEJÁRAT (F-1) Door #1          5   \n",
       "17            12       A66 - 17 Recepció (3-1) Door #1          5   \n",
       "18            12      A66 - 04 FÕBEJÁRAT (F-1) Door #1          5   \n",
       "19            12       A66 - 17 Recepció (3-1) Door #1          5   \n",
       "20            12      A66 - 04 FÕBEJÁRAT (F-1) Door #1          5   \n",
       "21            12       A66 - 12 Recepció (2-1) Door #1          5   \n",
       "22            12       A66 - 17 Recepció (3-1) Door #1          5   \n",
       "23            12      A66 - 04 FÕBEJÁRAT (F-1) Door #1          5   \n",
       "24            12       A66 - 17 Recepció (3-1) Door #1          5   \n",
       "25            12      A66 - 04 FÕBEJÁRAT (F-1) Door #1          5   \n",
       "26            12      A66 - 04 FÕBEJÁRAT (F-1) Door #1          5   \n",
       "27            12       A66 - 12 Recepció (2-1) Door #1          5   \n",
       "28            12      A66 - 04 FÕBEJÁRAT (F-1) Door #1          5   \n",
       "29            12       A66 - 12 Recepció (2-1) Door #1          5   \n",
       "...          ...                                   ...        ...   \n",
       "10450         12  A66 - 06 Kávézó terasz (F-3) Door #1          5   \n",
       "10451         12      A66 - 04 FÕBEJÁRAT (F-1) Door #1          5   \n",
       "10452         12       A66 - 17 Recepció (3-1) Door #1          5   \n",
       "10453         12  A66 - 06 Kávézó terasz (F-3) Door #1          5   \n",
       "10454         12  A66 - 06 Kávézó terasz (F-3) Door #1          5   \n",
       "10455         12  A66 - 06 Kávézó terasz (F-3) Door #1          5   \n",
       "10456         12       A66 - 12 Recepció (2-1) Door #1          5   \n",
       "10457         12  A66 - 06 Kávézó terasz (F-3) Door #1          5   \n",
       "10458         12       A66 - 12 Recepció (2-1) Door #1          5   \n",
       "10459         12     A66 - 13 Elõtér 216 (2-2) Door #1          5   \n",
       "10460         12       A66 - 17 Recepció (3-1) Door #1          5   \n",
       "10461         12       A66 - 17 Recepció (3-1) Door #1          5   \n",
       "10462         12  A66 - 06 Kávézó terasz (F-3) Door #1          5   \n",
       "10463         12      A66 - 04 FÕBEJÁRAT (F-1) Door #1          5   \n",
       "10464         12       A66 - 12 Recepció (2-1) Door #1          5   \n",
       "10465         12       A66 - 17 Recepció (3-1) Door #1          5   \n",
       "10466         12      A66 - 04 FÕBEJÁRAT (F-1) Door #1          5   \n",
       "10467         12       A66 - 17 Recepció (3-1) Door #1          5   \n",
       "10468         12       A66 - 12 Recepció (2-1) Door #1          5   \n",
       "10469         12     A66 - 18 Elõtér 316 (3-2) Door #1          5   \n",
       "10470         12       A66 - 12 Recepció (2-1) Door #1          5   \n",
       "10471         12      A66 - 04 FÕBEJÁRAT (F-1) Door #1          5   \n",
       "10472         12  A66 - 06 Kávézó terasz (F-3) Door #1          5   \n",
       "10473         12      A66 - 04 FÕBEJÁRAT (F-1) Door #1          5   \n",
       "10474         12  A66 - 06 Kávézó terasz (F-3) Door #1          5   \n",
       "10475         12  A66 - 06 Kávézó terasz (F-3) Door #1          5   \n",
       "10476         12       A66 - 17 Recepció (3-1) Door #1          5   \n",
       "10477         12      A66 - 04 FÕBEJÁRAT (F-1) Door #1          5   \n",
       "10478         12       A66 - 12 Recepció (2-1) Door #1          5   \n",
       "10479         12     A66 - 18 Elõtér 316 (3-2) Door #1          5   \n",
       "\n",
       "             Description #2  Object #3  Description #3  Object #4  \\\n",
       "0            Czender András          0             NaN          0   \n",
       "1            Czender András          0             NaN          0   \n",
       "2               Puskás Nóra          0             NaN          0   \n",
       "3               Puskás Nóra          0             NaN          0   \n",
       "4               Ripka Péter          0             NaN          0   \n",
       "5               Ripka Péter          0             NaN          0   \n",
       "6             Szívós István          0             NaN          0   \n",
       "7             Szívós István          0             NaN          0   \n",
       "8          Megyaszai Dániel          0             NaN          0   \n",
       "9          Megyaszai Dániel          0             NaN          0   \n",
       "10              Bakó Farkas          0             NaN          0   \n",
       "11              Bakó Farkas          0             NaN          0   \n",
       "12            Noszka András          0             NaN          0   \n",
       "13            Noszka András          0             NaN          0   \n",
       "14         Németh Krisztina          0             NaN          0   \n",
       "15         Németh Krisztina          0             NaN          0   \n",
       "16             Nagy Csongor          0             NaN          0   \n",
       "17             Nagy Csongor          0             NaN          0   \n",
       "18            Szívós István          0             NaN          0   \n",
       "19            Szívós István          0             NaN          0   \n",
       "20            Noszka András          0             NaN          0   \n",
       "21            Noszka András          0             NaN          0   \n",
       "22         Megyaszai Dániel          0             NaN          0   \n",
       "23             Szirmai Dóra          0             NaN          0   \n",
       "24             Szirmai Dóra          0             NaN          0   \n",
       "25              Puskás Nóra          0             NaN          0   \n",
       "26              Antal Péter          0             NaN          0   \n",
       "27              Puskás Nóra          0             NaN          0   \n",
       "28              Antal Péter          0             NaN          0   \n",
       "29              Antal Péter          0             NaN          0   \n",
       "...                     ...        ...             ...        ...   \n",
       "10450            Gál Zsuzsa          0             NaN          0   \n",
       "10451       Kalász Barnabás          0             NaN          0   \n",
       "10452            Tóth Lilla          0             NaN          0   \n",
       "10453        Császári Noémi          0             NaN          0   \n",
       "10454        Berbardo Diana          0             NaN          0   \n",
       "10455        Kelemen Balázs          0             NaN          0   \n",
       "10456          Szirmai Dóra          0             NaN          0   \n",
       "10457           Lévai Péter          0             NaN          0   \n",
       "10458         Noszka András          0             NaN          0   \n",
       "10459        Morvay Gergely          0             NaN          0   \n",
       "10460          Szirmai Dóra          0             NaN          0   \n",
       "10461      Németh Krisztina          0             NaN          0   \n",
       "10462       Külüs Zsuzsanna          0             NaN          0   \n",
       "10463        Rozsnyai Péter          0             NaN          0   \n",
       "10464           Szõke Tamás          0             NaN          0   \n",
       "10465         Bengyel Gábor          0             NaN          0   \n",
       "10466       Kalász Barnabás          0             NaN          0   \n",
       "10467       Kalász Barnabás          0             NaN          0   \n",
       "10468      Németh Krisztina          0             NaN          0   \n",
       "10469         Juhász László          0             NaN          0   \n",
       "10470         Juhász László          0             NaN          0   \n",
       "10471       Harald Carlston          0             NaN          0   \n",
       "10472          Vadász Péter          0             NaN          0   \n",
       "10473      Németh Krisztina          0             NaN          0   \n",
       "10474      Koronczi Richárd          0             NaN          0   \n",
       "10475         Takács Róbert          0             NaN          0   \n",
       "10476      Németh Krisztina          0             NaN          0   \n",
       "10477        Bánszegi Bence          0             NaN          0   \n",
       "10478           Mazúr Gábor          0             NaN          0   \n",
       "10479  Fábián Zsófia Eszter          0             NaN          0   \n",
       "\n",
       "       Description #4  Card number         date      time  \n",
       "0                 NaN  00215:09895  2019.01.02.   9:21:49  \n",
       "1                 NaN  00215:09895  2019.01.02.   9:22:54  \n",
       "2                 NaN  00059:58046  2019.01.02.   9:29:15  \n",
       "3                 NaN  00059:58046  2019.01.02.   9:31:19  \n",
       "4                 NaN  00110:57041  2019.01.02.   9:36:51  \n",
       "5                 NaN  00110:57041  2019.01.02.   9:38:00  \n",
       "6                 NaN  00008:58673  2019.01.02.   9:44:46  \n",
       "7                 NaN  00008:58673  2019.01.02.   9:46:16  \n",
       "8                 NaN  00055:39162  2019.01.02.  10:02:19  \n",
       "9                 NaN  00055:39162  2019.01.02.  10:03:26  \n",
       "10                NaN  00152:61253  2019.01.02.  10:29:59  \n",
       "11                NaN  00152:61253  2019.01.02.  10:30:58  \n",
       "12                NaN  00249:15139  2019.01.02.  10:59:54  \n",
       "13                NaN  00249:15139  2019.01.02.  11:02:12  \n",
       "14                NaN  00147:18727  2019.01.02.  11:15:29  \n",
       "15                NaN  00147:18727  2019.01.02.  11:16:21  \n",
       "16                NaN  00006:33914  2019.01.02.  11:35:36  \n",
       "17                NaN  00006:33914  2019.01.02.  11:36:54  \n",
       "18                NaN  00008:58673  2019.01.02.  11:51:23  \n",
       "19                NaN  00008:58673  2019.01.02.  11:52:52  \n",
       "20                NaN  00249:15139  2019.01.02.  11:56:14  \n",
       "21                NaN  00249:15139  2019.01.02.  11:57:12  \n",
       "22                NaN  00055:39162  2019.01.02.  12:08:55  \n",
       "23                NaN  00082:08465  2019.01.02.  12:40:04  \n",
       "24                NaN  00082:08465  2019.01.02.  12:41:24  \n",
       "25                NaN  00059:58046  2019.01.02.  12:50:29  \n",
       "26                NaN  00137:45989  2019.01.02.  12:50:41  \n",
       "27                NaN  00059:58046  2019.01.02.  12:51:12  \n",
       "28                NaN  00137:45989  2019.01.02.  13:05:49  \n",
       "29                NaN  00137:45989  2019.01.02.  13:06:50  \n",
       "...               ...          ...          ...       ...  \n",
       "10450             NaN  00137:44965  2019.01.31.  17:05:31  \n",
       "10451             NaN  00159:45378  2019.01.31.  17:05:45  \n",
       "10452             NaN  00169:38418  2019.01.31.  17:06:39  \n",
       "10453             NaN  00066:49877  2019.01.31.  17:10:37  \n",
       "10454             NaN  00118:62699  2019.01.31.  17:10:54  \n",
       "10455             NaN  00156:24003  2019.01.31.  17:11:04  \n",
       "10456             NaN  00082:08465  2019.01.31.  17:15:33  \n",
       "10457             NaN  00186:21741  2019.01.31.  17:20:29  \n",
       "10458             NaN  00249:15139  2019.01.31.  17:22:48  \n",
       "10459             NaN  00214:48881  2019.01.31.  17:23:54  \n",
       "10460             NaN  00082:08465  2019.01.31.  17:25:11  \n",
       "10461             NaN  00147:18727  2019.01.31.  17:29:48  \n",
       "10462             NaN  00003:50701  2019.01.31.  17:30:20  \n",
       "10463             NaN  00147:03442  2019.01.31.  17:33:02  \n",
       "10464             NaN  00151:37267  2019.01.31.  17:34:07  \n",
       "10465             NaN  00152:32341  2019.01.31.  17:34:39  \n",
       "10466             NaN  00159:45378  2019.01.31.  17:35:13  \n",
       "10467             NaN  00159:45378  2019.01.31.  17:36:06  \n",
       "10468             NaN  00147:18727  2019.01.31.  17:44:33  \n",
       "10469             NaN  00066:62229  2019.01.31.  17:49:59  \n",
       "10470             NaN  00066:62229  2019.01.31.  17:52:37  \n",
       "10471             NaN  00171:11499  2019.01.31.  17:55:02  \n",
       "10472             NaN  00234:15510  2019.01.31.  17:58:09  \n",
       "10473             NaN  00147:18727  2019.01.31.  17:58:50  \n",
       "10474             NaN  00056:07178  2019.01.31.  17:58:54  \n",
       "10475             NaN  00178:59777  2019.01.31.  17:59:24  \n",
       "10476             NaN  00147:18727  2019.01.31.  18:01:03  \n",
       "10477             NaN  00152:06741  2019.01.31.  18:06:09  \n",
       "10478             NaN  00027:35293  2019.01.31.  18:11:59  \n",
       "10479             NaN  00151:37333  2019.01.31.  18:14:57  \n",
       "\n",
       "[10480 rows x 15 columns]"
      ]
     },
     "execution_count": 165,
     "metadata": {},
     "output_type": "execute_result"
    }
   ],
   "source": [
    "entry_log"
   ]
  },
  {
   "cell_type": "code",
   "execution_count": 203,
   "metadata": {},
   "outputs": [
    {
     "data": {
      "text/plain": [
       "2019.01.16.    684\n",
       "2019.01.24.    677\n",
       "2019.01.29.    647\n",
       "2019.01.15.    643\n",
       "2019.01.22.    631\n",
       "2019.01.18.    630\n",
       "2019.01.21.    616\n",
       "2019.01.28.    615\n",
       "2019.01.17.    614\n",
       "2019.01.25.    603\n",
       "2019.01.23.    597\n",
       "2019.01.30.    582\n",
       "2019.01.31.    564\n",
       "2019.01.14.    474\n",
       "2019.01.10.    362\n",
       "2019.01.09.    339\n",
       "2019.01.11.    312\n",
       "2019.01.08.    296\n",
       "2019.01.07.    276\n",
       "2019.01.04.     87\n",
       "2019.01.03.     85\n",
       "2019.01.19.     70\n",
       "2019.01.02.     54\n",
       "2019.01.05.     20\n",
       "2019.01.26.      2\n",
       "Name: date, dtype: int64"
      ]
     },
     "execution_count": 203,
     "metadata": {},
     "output_type": "execute_result"
    }
   ],
   "source": [
    "all_date=entry_log[\"date\"].value_counts()\n",
    "all_date"
   ]
  },
  {
   "cell_type": "code",
   "execution_count": 200,
   "metadata": {},
   "outputs": [
    {
     "data": {
      "text/plain": [
       "<function matplotlib.pyplot.show(*args, **kw)>"
      ]
     },
     "execution_count": 200,
     "metadata": {},
     "output_type": "execute_result"
    },
    {
     "data": {
      "image/png": "[encoded data removed]",
      "text/plain": [
       "<Figure size 1440x720 with 1 Axes>"
      ]
     },
     "metadata": {
      "needs_background": "light"
     },
     "output_type": "display_data"
    }
   ],
   "source": [
    "plt.figure(figsize=(20,10))\n",
    "g=sns.barplot(entry_log[\"date\"].value_counts().index,entry_log[\"date\"].value_counts().values)\n",
    "plt.xticks(rotation=45)\n",
    "plt.show"
   ]
  },
  {
   "cell_type": "code",
   "execution_count": 231,
   "metadata": {},
   "outputs": [
    {
     "data": {
      "text/plain": [
       "9"
      ]
     },
     "execution_count": 231,
     "metadata": {},
     "output_type": "execute_result"
    }
   ],
   "source": [
    "# entry_log[\"Description #2\"].value_counts()\n",
    "sorted(all_date.index).index('2019.01.14.')"
   ]
  },
  {
   "cell_type": "code",
   "execution_count": 225,
   "metadata": {},
   "outputs": [],
   "source": [
    "after_holiday=sorted(all_date.index)[9:]"
   ]
  },
  {
   "cell_type": "code",
   "execution_count": 228,
   "metadata": {},
   "outputs": [
    {
     "data": {
      "text/plain": [
       "<matplotlib.axes._subplots.AxesSubplot at 0x2a659c4f630>"
      ]
     },
     "execution_count": 228,
     "metadata": {},
     "output_type": "execute_result"
    },
    {
     "data": {
      "image/png": "[encoded data removed]",
      "text/plain": [
       "<Figure size 1440x720 with 1 Axes>"
      ]
     },
     "metadata": {
      "needs_background": "light"
     },
     "output_type": "display_data"
    }
   ],
   "source": [
    "plt.figure(figsize=(20,10))\n",
    "plt.xticks(rotation=45)\n",
    "data=entry_log[entry_log[\"date\"].isin(after_holiday)]\n",
    "sns.scatterplot(x=\"Description #2\",y=\"date\",data=data)"
   ]
  },
  {
   "cell_type": "markdown",
   "metadata": {},
   "source": [
    "### Array datatypes"
   ]
  },
  {
   "cell_type": "markdown",
   "metadata": {},
   "source": [
    "Every numpy array is a grid of elements of the same type. Numpy provides a large set of numeric datatypes that you can use to construct arrays. Numpy tries to guess a datatype when you create an array, but functions that construct arrays usually also include an optional argument to explicitly specify the datatype. Here is an example:"
   ]
  },
  {
   "cell_type": "code",
   "execution_count": null,
   "metadata": {
    "collapsed": true
   },
   "outputs": [],
   "source": [
    "x = np.array([1, 2])  # Let numpy choose the datatype\n",
    "x.dtype     "
   ]
  },
  {
   "cell_type": "code",
   "execution_count": null,
   "metadata": {
    "collapsed": true
   },
   "outputs": [],
   "source": [
    "x = np.array([1.0, 2.0])  # Let numpy choose the datatype\n",
    "x.dtype         "
   ]
  },
  {
   "cell_type": "code",
   "execution_count": null,
   "metadata": {
    "collapsed": true
   },
   "outputs": [],
   "source": [
    "x = np.array([1, 2], dtype=np.int64)  # Force a particular datatype\n",
    "x.dtype            "
   ]
  },
  {
   "cell_type": "markdown",
   "metadata": {},
   "source": [
    "### Array math"
   ]
  },
  {
   "cell_type": "markdown",
   "metadata": {},
   "source": [
    "Basic mathematical functions operate elementwise on arrays, and are available both as operator overloads and as functions in the numpy module:"
   ]
  },
  {
   "cell_type": "code",
   "execution_count": null,
   "metadata": {
    "collapsed": true
   },
   "outputs": [],
   "source": [
    "x = np.array([[1, 2], [3, 4]], dtype=np.float64)\n",
    "x"
   ]
  },
  {
   "cell_type": "code",
   "execution_count": null,
   "metadata": {
    "collapsed": true
   },
   "outputs": [],
   "source": [
    "y = np.array([[5, 6], [7, 8]], dtype=np.float64)\n",
    "y"
   ]
  },
  {
   "cell_type": "markdown",
   "metadata": {},
   "source": [
    "#### Elementwise sum, equivalent expressions:"
   ]
  },
  {
   "cell_type": "code",
   "execution_count": null,
   "metadata": {
    "collapsed": true
   },
   "outputs": [],
   "source": [
    "x + y"
   ]
  },
  {
   "cell_type": "code",
   "execution_count": null,
   "metadata": {
    "collapsed": true
   },
   "outputs": [],
   "source": [
    "np.add(x, y)"
   ]
  },
  {
   "cell_type": "markdown",
   "metadata": {},
   "source": [
    "#### Elementwise difference, equivalent expressions:"
   ]
  },
  {
   "cell_type": "code",
   "execution_count": null,
   "metadata": {
    "collapsed": true
   },
   "outputs": [],
   "source": [
    "x - y"
   ]
  },
  {
   "cell_type": "code",
   "execution_count": null,
   "metadata": {
    "collapsed": true
   },
   "outputs": [],
   "source": [
    "np.subtract(x, y)"
   ]
  },
  {
   "cell_type": "markdown",
   "metadata": {},
   "source": [
    "#### Elementwise product, equivalent expressions:"
   ]
  },
  {
   "cell_type": "code",
   "execution_count": null,
   "metadata": {
    "collapsed": true
   },
   "outputs": [],
   "source": [
    "x * y"
   ]
  },
  {
   "cell_type": "code",
   "execution_count": null,
   "metadata": {
    "collapsed": true
   },
   "outputs": [],
   "source": [
    "np.multiply(x, y)"
   ]
  },
  {
   "cell_type": "markdown",
   "metadata": {},
   "source": [
    "#### Elementwise division, equivalent expressions:"
   ]
  },
  {
   "cell_type": "code",
   "execution_count": null,
   "metadata": {
    "collapsed": true
   },
   "outputs": [],
   "source": [
    "x / y"
   ]
  },
  {
   "cell_type": "code",
   "execution_count": null,
   "metadata": {
    "collapsed": true
   },
   "outputs": [],
   "source": [
    "np.divide(x, y)"
   ]
  },
  {
   "cell_type": "markdown",
   "metadata": {},
   "source": [
    "#### Elementwise square root"
   ]
  },
  {
   "cell_type": "code",
   "execution_count": null,
   "metadata": {
    "collapsed": true
   },
   "outputs": [],
   "source": [
    "np.sqrt(x)"
   ]
  },
  {
   "cell_type": "markdown",
   "metadata": {},
   "source": [
    "#### Dot product and matrix multiplicaiton"
   ]
  },
  {
   "cell_type": "markdown",
   "metadata": {},
   "source": [
    "Note that unlike MATLAB, * is elementwise multiplication, not matrix multiplication. We instead use the `np.dot` function or `.dot` method to compute inner products of vectors, to multiply a vector by a matrix, and to multiply matrices. `dot` is available both as a function in the numpy module and as an instance method of array objects:"
   ]
  },
  {
   "cell_type": "code",
   "execution_count": null,
   "metadata": {
    "collapsed": true
   },
   "outputs": [],
   "source": [
    "x = np.array([[1, 2], [3, 4]])\n",
    "y = np.array([[5, 6], [7, 8]])\n",
    "v = np.array([9, 10])\n",
    "w = np.array([11, 12])"
   ]
  },
  {
   "cell_type": "markdown",
   "metadata": {},
   "source": [
    "##### Inner product of vectors"
   ]
  },
  {
   "cell_type": "code",
   "execution_count": null,
   "metadata": {
    "collapsed": true
   },
   "outputs": [],
   "source": [
    "np.dot(v, w)"
   ]
  },
  {
   "cell_type": "markdown",
   "metadata": {},
   "source": [
    "##### Matrix vector product"
   ]
  },
  {
   "cell_type": "code",
   "execution_count": null,
   "metadata": {
    "collapsed": true
   },
   "outputs": [],
   "source": [
    "x.dot(v)  # using x's method"
   ]
  },
  {
   "cell_type": "code",
   "execution_count": null,
   "metadata": {
    "collapsed": true
   },
   "outputs": [],
   "source": [
    "np.dot(x, v)  # using the numpy function"
   ]
  },
  {
   "cell_type": "markdown",
   "metadata": {},
   "source": [
    "##### Matrix matrix product"
   ]
  },
  {
   "cell_type": "code",
   "execution_count": null,
   "metadata": {
    "collapsed": true
   },
   "outputs": [],
   "source": [
    "x.dot(y)  # using x's method"
   ]
  },
  {
   "cell_type": "code",
   "execution_count": null,
   "metadata": {
    "collapsed": true
   },
   "outputs": [],
   "source": [
    "np.dot(x, y)  # using the numpy function"
   ]
  },
  {
   "cell_type": "markdown",
   "metadata": {},
   "source": [
    "### Mathematical functions"
   ]
  },
  {
   "cell_type": "markdown",
   "metadata": {},
   "source": [
    "Numpy provides many useful functions for performing computations on arrays; one of the most useful is `sum`:"
   ]
  },
  {
   "cell_type": "code",
   "execution_count": null,
   "metadata": {
    "collapsed": true
   },
   "outputs": [],
   "source": [
    "x = np.array([[1, 2], [3, 4]])\n",
    "x"
   ]
  },
  {
   "cell_type": "code",
   "execution_count": null,
   "metadata": {
    "collapsed": true
   },
   "outputs": [],
   "source": [
    "np.sum(x)  # Compute sum of all elements"
   ]
  },
  {
   "cell_type": "code",
   "execution_count": null,
   "metadata": {
    "collapsed": true
   },
   "outputs": [],
   "source": [
    "np.sum(x, axis=0)  # Compute sum of each column - sum *over rows* i.e. dimension 0"
   ]
  },
  {
   "cell_type": "code",
   "execution_count": null,
   "metadata": {
    "collapsed": true
   },
   "outputs": [],
   "source": [
    "np.sum(x, axis=1)  # Compute sum of each row - sum *over columns* i.e. dimension 1"
   ]
  },
  {
   "cell_type": "markdown",
   "metadata": {},
   "source": [
    "You can find the full list of mathematical functions provided by numpy in the [documentation](http://docs.scipy.org/doc/numpy/reference/routines.math.html).\n"
   ]
  },
  {
   "cell_type": "markdown",
   "metadata": {},
   "source": [
    "Apart from computing mathematical functions using arrays, we frequently need to reshape or otherwise manipulate data in arrays. The simplest example of this type of operation is transposing a matrix; to transpose a matrix, simply use the `T` attribute of an array object:"
   ]
  },
  {
   "cell_type": "code",
   "execution_count": null,
   "metadata": {
    "collapsed": true
   },
   "outputs": [],
   "source": [
    "x = np.arange(4).reshape((2, 2))\n",
    "x"
   ]
  },
  {
   "cell_type": "code",
   "execution_count": null,
   "metadata": {
    "collapsed": true
   },
   "outputs": [],
   "source": [
    "x.T"
   ]
  },
  {
   "cell_type": "code",
   "execution_count": null,
   "metadata": {
    "collapsed": true
   },
   "outputs": [],
   "source": [
    "np.transpose(x) # Equivalent expression"
   ]
  },
  {
   "cell_type": "code",
   "execution_count": null,
   "metadata": {
    "collapsed": true
   },
   "outputs": [],
   "source": [
    "# Note that taking the transpose of a rank 1 array (a vector) does nothing:\n",
    "v = np.array([1, 2, 3])\n",
    "v"
   ]
  },
  {
   "cell_type": "code",
   "execution_count": null,
   "metadata": {
    "collapsed": true
   },
   "outputs": [],
   "source": [
    "v.T"
   ]
  },
  {
   "cell_type": "code",
   "execution_count": null,
   "metadata": {
    "collapsed": true
   },
   "outputs": [],
   "source": [
    "x.reshape((4, 1))"
   ]
  },
  {
   "cell_type": "code",
   "execution_count": null,
   "metadata": {
    "collapsed": true
   },
   "outputs": [],
   "source": [
    "x.reshape((4,))"
   ]
  },
  {
   "cell_type": "code",
   "execution_count": null,
   "metadata": {
    "collapsed": true
   },
   "outputs": [],
   "source": [
    "y = np.arange(27).reshape((3, 3, 3))\n",
    "y"
   ]
  },
  {
   "cell_type": "code",
   "execution_count": null,
   "metadata": {
    "collapsed": true
   },
   "outputs": [],
   "source": [
    "y.shape"
   ]
  },
  {
   "cell_type": "code",
   "execution_count": null,
   "metadata": {
    "collapsed": true
   },
   "outputs": [],
   "source": [
    "y.reshape((3, -1))"
   ]
  },
  {
   "cell_type": "code",
   "execution_count": null,
   "metadata": {
    "collapsed": true
   },
   "outputs": [],
   "source": [
    "y.reshape((3, -1)).shape"
   ]
  },
  {
   "cell_type": "markdown",
   "metadata": {},
   "source": [
    "### Broadcasting"
   ]
  },
  {
   "cell_type": "markdown",
   "metadata": {},
   "source": [
    "Broadcasting is a powerful mechanism that allows numpy to work with arrays of different shapes when performing arithmetic operations. Frequently we have a smaller array and a larger array, and we want to use the smaller array multiple times to perform some operation on the larger array.\n",
    "\n",
    "For example, suppose that we want to add a constant vector to each row of a matrix. "
   ]
  },
  {
   "cell_type": "code",
   "execution_count": null,
   "metadata": {
    "collapsed": true
   },
   "outputs": [],
   "source": [
    "x = np.arange(12).reshape((4, 3))\n",
    "x"
   ]
  },
  {
   "cell_type": "code",
   "execution_count": null,
   "metadata": {
    "collapsed": true
   },
   "outputs": [],
   "source": [
    "v = np.array([1, 0, 1])\n",
    "v"
   ]
  },
  {
   "cell_type": "code",
   "execution_count": null,
   "metadata": {
    "collapsed": true
   },
   "outputs": [],
   "source": [
    "x + v  # Add v to each row of x using broadcasting"
   ]
  },
  {
   "cell_type": "markdown",
   "metadata": {},
   "source": [
    "`x + v` works even though `x` has shape `(4, 3)` and `v` has shape `(3,)` due to broadcasting; this line works as if v actually had shape `(4, 3)`, where each row was a copy of `v`, and the sum was performed elementwise.\n",
    "\n",
    "Broadcasting two arrays together follows these rules:\n",
    "\n",
    "* If the arrays do not have the same rank, prepend the shape of the lower rank array with 1s until both shapes have the same length.\n",
    "* The two arrays are said to be compatible in a dimension if they have the same size in the dimension, or if one of the arrays has size 1 in that dimension.\n",
    "* The arrays can be broadcast together if they are compatible in all dimensions.\n",
    "* After broadcasting, each array behaves as if it had shape equal to the elementwise maximum of shapes of the two input arrays.\n",
    "* In any dimension where one array had size 1 and the other array had size greater than 1, the first array behaves as if it were copied along that dimension."
   ]
  },
  {
   "cell_type": "markdown",
   "metadata": {},
   "source": [
    "So be careful with shapes..."
   ]
  },
  {
   "cell_type": "code",
   "execution_count": null,
   "metadata": {
    "collapsed": true
   },
   "outputs": [],
   "source": [
    "y = x.T\n",
    "y"
   ]
  },
  {
   "cell_type": "code",
   "execution_count": null,
   "metadata": {
    "collapsed": true
   },
   "outputs": [],
   "source": [
    "try:\n",
    "    y + v  # Add v to each column of y using broadcasting...?\n",
    "except ValueError as e:\n",
    "    print(e)\n",
    "except:\n",
    "    print(\"Unexpected error:\", sys.exc_info()[0])\n",
    "    raise"
   ]
  },
  {
   "cell_type": "markdown",
   "metadata": {},
   "source": [
    "And especially careful with vectors!"
   ]
  },
  {
   "cell_type": "code",
   "execution_count": null,
   "metadata": {
    "collapsed": true
   },
   "outputs": [],
   "source": [
    "try:\n",
    "    y + v.T  # Add v to each column of y using broadcasting...?\n",
    "except ValueError as e:\n",
    "    print(e)\n",
    "except:\n",
    "    print(\"Unexpected error:\", sys.exc_info()[0])\n",
    "    raise"
   ]
  },
  {
   "cell_type": "code",
   "execution_count": null,
   "metadata": {
    "collapsed": true
   },
   "outputs": [],
   "source": [
    "y + v.reshape((3, 1))  # Add v to each column of y using broadcasting!"
   ]
  },
  {
   "cell_type": "code",
   "execution_count": null,
   "metadata": {
    "collapsed": true
   },
   "outputs": [],
   "source": [
    "print('x shape:', x.shape)\n",
    "print('v shape:', v.shape)\n",
    "print('y shape:', y.shape)"
   ]
  },
  {
   "cell_type": "markdown",
   "metadata": {},
   "source": [
    "### Numpy documentation"
   ]
  },
  {
   "cell_type": "markdown",
   "metadata": {},
   "source": [
    "This brief overview has touched on many of the important things that you need to know about numpy, but is far from complete. Check out the [numpy reference](https://docs.scipy.org/doc/numpy-1.13.0/reference/) to find out much more about numpy."
   ]
  },
  {
   "cell_type": "markdown",
   "metadata": {},
   "source": [
    "## ======= Pandas introduction  ======="
   ]
  },
  {
   "cell_type": "markdown",
   "metadata": {
    "collapsed": true
   },
   "source": [
    "Pandas is a library for data manipulation and analysis. There are two fundamental data structures in pandas: the **Series** and **DataFrame** structures which are built on top of NumPy arrays.\n",
    "\n",
    "The following introduction is largely based on this [tutorial](http://www.gregreda.com/2013/10/26/intro-to-pandas-data-structures/). Another useful referece is the [Pandas introduction to data structures](http://pandas.pydata.org/pandas-docs/stable/dsintro.html). Pandas is well documented and you will find good information about all methods and structures in the [API reference](http://pandas.pydata.org/pandas-docs/stable/api.html)"
   ]
  },
  {
   "cell_type": "markdown",
   "metadata": {},
   "source": [
    "### Series"
   ]
  },
  {
   "cell_type": "markdown",
   "metadata": {},
   "source": [
    "A **Series** a one-dimensional object (similar to a vector). Each element has a corresponding *index*. By default the indices range from 0 to N, where N is the length of the Series."
   ]
  },
  {
   "cell_type": "code",
   "execution_count": null,
   "metadata": {
    "collapsed": true
   },
   "outputs": [],
   "source": [
    "# Let's create a Series by passing in a list without specifying the indices.\n",
    "s = pd.Series([1, 4.2, 'Hello'])\n",
    "s"
   ]
  },
  {
   "cell_type": "code",
   "execution_count": null,
   "metadata": {
    "collapsed": true
   },
   "outputs": [],
   "source": [
    "# Now, let's specify the indices explicitly\n",
    "s = pd.Series([1, 4.2, 'Hello'], index=['A', 'B', 'C'])\n",
    "s"
   ]
  },
  {
   "cell_type": "code",
   "execution_count": null,
   "metadata": {
    "collapsed": true
   },
   "outputs": [],
   "source": [
    "# Indexing the Series\n",
    "s['B']"
   ]
  },
  {
   "cell_type": "code",
   "execution_count": null,
   "metadata": {
    "collapsed": true
   },
   "outputs": [],
   "source": [
    "# We can also index by using boolean logic\n",
    "s[s > 2]"
   ]
  },
  {
   "cell_type": "markdown",
   "metadata": {},
   "source": [
    "### DataFrame"
   ]
  },
  {
   "cell_type": "markdown",
   "metadata": {},
   "source": [
    "A DataFrame is a tabular data structure comprised of rows and columns. You can also think of the DataFrame as a collection of Series objects that share an index. "
   ]
  },
  {
   "cell_type": "markdown",
   "metadata": {},
   "source": [
    "#### Creating DataFrame structures"
   ]
  },
  {
   "cell_type": "markdown",
   "metadata": {},
   "source": [
    "We can create an empty DataFrame by specifying the column names. Then we can insert data row by row."
   ]
  },
  {
   "cell_type": "code",
   "execution_count": null,
   "metadata": {
    "collapsed": true
   },
   "outputs": [],
   "source": [
    "df = pd.DataFrame(columns=['Gender', 'Age', 'Height', 'Weight'])\n",
    "df"
   ]
  },
  {
   "cell_type": "code",
   "execution_count": null,
   "metadata": {
    "collapsed": true
   },
   "outputs": [],
   "source": [
    "# Now let's add an observation\n",
    "df.loc[0] = ['Male', 23, 180, 73]  # Note how we used .loc to specify the index\n",
    "df.loc['A'] = ['Female', 27, 167, 59]\n",
    "df"
   ]
  },
  {
   "cell_type": "markdown",
   "metadata": {},
   "source": [
    "You can populate using a dictionary too which allows you to do things in a nonstandard order..."
   ]
  },
  {
   "cell_type": "code",
   "execution_count": null,
   "metadata": {
    "collapsed": true
   },
   "outputs": [],
   "source": [
    "df.loc['i'] = dict(Weight='3kgs', Age=10, Gender='Blue', Height=-12)\n",
    "df"
   ]
  },
  {
   "cell_type": "markdown",
   "metadata": {},
   "source": [
    "#### Creating DataFrame from other structures"
   ]
  },
  {
   "cell_type": "markdown",
   "metadata": {},
   "source": [
    "You can also create a dataframe from:\n",
    "* Dict of 1D ndarrays, lists, dicts, or Series\n",
    "* 2-D numpy.ndarray\n",
    "* Structured or record ndarray\n",
    "* A Series\n",
    "* Another DataFrame\n",
    "\n",
    "For example:"
   ]
  },
  {
   "cell_type": "code",
   "execution_count": null,
   "metadata": {
    "collapsed": true
   },
   "outputs": [],
   "source": [
    "# Create a DataFrame from a list\n",
    "some_list = [['Male', 23, 180, 73], ['Female', 27, 167, 59]]\n",
    "df = pd.DataFrame(some_list, index=[0, 'A'], columns=['Gender', 'Age', 'Height', 'Weight'])\n",
    "df"
   ]
  },
  {
   "cell_type": "code",
   "execution_count": null,
   "metadata": {
    "collapsed": true
   },
   "outputs": [],
   "source": [
    "# Create a DataFrame from a dictionary where keys are column values\n",
    "column_key_dict = {\n",
    "    'Gender': ['Male', 'Female'],\n",
    "    'Age': [23, 27],\n",
    "    'Height': [180, 167],\n",
    "    'Weight': [73, 59]\n",
    "}\n",
    "df = pd.DataFrame.from_dict(column_key_dict, orient='columns')\n",
    "df.index = [0, 'A']\n",
    "df"
   ]
  },
  {
   "cell_type": "code",
   "execution_count": null,
   "metadata": {
    "collapsed": true
   },
   "outputs": [],
   "source": [
    "# Create a DataFrame from a dictionary where keys are index values\n",
    "index_key_dict = {0:['Male', 23, 180, 73], 'A':['Female', 27, 167, 59]}\n",
    "df = pd.DataFrame.from_dict(index_key_dict, orient='index')\n",
    "df.columns = ['Gender', 'Age', 'Height', 'Weight']\n",
    "df"
   ]
  },
  {
   "cell_type": "code",
   "execution_count": null,
   "metadata": {
    "collapsed": true
   },
   "outputs": [],
   "source": [
    "# Using the DataFrame call, keys are assumed to be column headers\n",
    "df = pd.DataFrame({0:['Male', 23, 180, 73], 'A':['Female', 27, 167, 59]}, \n",
    "                   index=['Gender', 'Age', 'Height', 'Weight'])\n",
    "df"
   ]
  },
  {
   "cell_type": "code",
   "execution_count": null,
   "metadata": {
    "collapsed": true
   },
   "outputs": [],
   "source": [
    "# ...we can transpose using the `.T` method"
   ]
  },
  {
   "cell_type": "code",
   "execution_count": null,
   "metadata": {
    "collapsed": true
   },
   "outputs": [],
   "source": [
    "df = df.T\n",
    "df"
   ]
  },
  {
   "cell_type": "markdown",
   "metadata": {},
   "source": [
    "#### Loading a CSV into a DataFrame"
   ]
  },
  {
   "cell_type": "markdown",
   "metadata": {},
   "source": [
    "Most commonly we create DataFrame structures by reading csv files. To run the following piece of code you need to download the datasets associated with the course and place them in a subdirectory called \"datasets\" under the same directory that your notebooks are located. Alternatively, you can specify the full path of the .csv file."
   ]
  },
  {
   "cell_type": "code",
   "execution_count": null,
   "metadata": {
    "collapsed": true
   },
   "outputs": [],
   "source": [
    "cpu_loc = os.path.join(os.getcwd(), 'datasets', 'cpu.csv')\n",
    "cpu_loc"
   ]
  },
  {
   "cell_type": "code",
   "execution_count": null,
   "metadata": {
    "collapsed": true
   },
   "outputs": [],
   "source": [
    "cpu = pd.read_csv(cpu_loc)\n",
    "cpu.head() # Head shows the first few elements (unless specified otherwise) of the DataFrame"
   ]
  },
  {
   "cell_type": "markdown",
   "metadata": {},
   "source": [
    "You should see that each observation in our dataset comprises 8 measurements (attributes)."
   ]
  },
  {
   "cell_type": "markdown",
   "metadata": {},
   "source": [
    "#### Basic methods for DataFrame objects\n",
    "* `head(N)`: displays the first N elements of the DataFrame\n",
    "* `tail(N)`: displays the last N elements of the DataFrame\n",
    "* `info()`:  displays basic information about the variables\n",
    "* `describe()`: displays summary statistics of the data"
   ]
  },
  {
   "cell_type": "markdown",
   "metadata": {},
   "source": [
    "Execute the following cells and observe the outputs."
   ]
  },
  {
   "cell_type": "code",
   "execution_count": null,
   "metadata": {
    "collapsed": true
   },
   "outputs": [],
   "source": [
    "cpu.tail(5)"
   ]
  },
  {
   "cell_type": "code",
   "execution_count": null,
   "metadata": {
    "collapsed": true
   },
   "outputs": [],
   "source": [
    "cpu.info()"
   ]
  },
  {
   "cell_type": "code",
   "execution_count": null,
   "metadata": {
    "collapsed": true
   },
   "outputs": [],
   "source": [
    "cpu.describe()"
   ]
  },
  {
   "cell_type": "markdown",
   "metadata": {},
   "source": [
    "#### Column Selection"
   ]
  },
  {
   "cell_type": "markdown",
   "metadata": {},
   "source": [
    "You can think of a DataFrame as a group of Series that share an index (in this case the column headers). This makes it easy to select specific **columns**."
   ]
  },
  {
   "cell_type": "code",
   "execution_count": null,
   "metadata": {
    "collapsed": true
   },
   "outputs": [],
   "source": [
    "cpu['MMAX'].head(5)"
   ]
  },
  {
   "cell_type": "code",
   "execution_count": null,
   "metadata": {
    "collapsed": true
   },
   "outputs": [],
   "source": [
    "type(cpu['MMAX'])"
   ]
  },
  {
   "cell_type": "markdown",
   "metadata": {},
   "source": [
    "To select multiple columns we simple need to pass a list of column names. The resulting object is another DataFrame."
   ]
  },
  {
   "cell_type": "code",
   "execution_count": null,
   "metadata": {
    "collapsed": true
   },
   "outputs": [],
   "source": [
    "cpu[['MMIN', 'MMAX']].head(7)"
   ]
  },
  {
   "cell_type": "code",
   "execution_count": null,
   "metadata": {
    "collapsed": true
   },
   "outputs": [],
   "source": [
    "type(cpu[['MMIN', 'MMAX']].head(7)) # This is a DataFrame"
   ]
  },
  {
   "cell_type": "markdown",
   "metadata": {},
   "source": [
    "#### Row selection"
   ]
  },
  {
   "cell_type": "markdown",
   "metadata": {},
   "source": [
    "To select specific **observations (i.e. rows)** we need to pass in the corresponding indices. This operation is called *slicing*. The resulting structure is again a DataFrame."
   ]
  },
  {
   "cell_type": "code",
   "execution_count": null,
   "metadata": {
    "collapsed": true
   },
   "outputs": [],
   "source": [
    "cpu[0:3]"
   ]
  },
  {
   "cell_type": "code",
   "execution_count": null,
   "metadata": {
    "collapsed": true
   },
   "outputs": [],
   "source": [
    "# This is equivalent to using .iloc\n",
    "cpu.iloc[0:3]"
   ]
  },
  {
   "cell_type": "markdown",
   "metadata": {},
   "source": [
    "#### Filtering"
   ]
  },
  {
   "cell_type": "markdown",
   "metadata": {},
   "source": [
    "Now suppose that you want to select all the observations which have an MMAX value which is higher than 35000. It is easy to do that:"
   ]
  },
  {
   "cell_type": "code",
   "execution_count": null,
   "metadata": {
    "collapsed": true
   },
   "outputs": [],
   "source": [
    "cpu[cpu['MMAX'] > 35000]"
   ]
  },
  {
   "cell_type": "markdown",
   "metadata": {},
   "source": [
    "Or equivalently:"
   ]
  },
  {
   "cell_type": "code",
   "execution_count": null,
   "metadata": {
    "collapsed": true
   },
   "outputs": [],
   "source": [
    "cpu[cpu.MMAX > 35000]"
   ]
  },
  {
   "cell_type": "markdown",
   "metadata": {},
   "source": [
    "You can also filter the data by using multiple attributes:"
   ]
  },
  {
   "cell_type": "code",
   "execution_count": null,
   "metadata": {
    "collapsed": true
   },
   "outputs": [],
   "source": [
    "cpu[(cpu.MMAX > 35000) & (cpu.MMIN > 16000)]"
   ]
  },
  {
   "cell_type": "markdown",
   "metadata": {},
   "source": [
    "We saw before how we can select rows by passing the index numbers. This most of the time works but very often our indices are not in linear ascending order. \n",
    "\n",
    "There are two basic methods of indexing DataFrame structures:\n",
    "* `loc`: works on labels in the index\n",
    "* `iloc`: works on the position in the index (so it only takes integers)\n",
    "\n",
    "The following example should clarify the difference between label-based indexing (`loc`) and positional indexing (`iloc`)\n"
   ]
  },
  {
   "cell_type": "code",
   "execution_count": null,
   "metadata": {
    "collapsed": true
   },
   "outputs": [],
   "source": [
    "# First let's create a new dataframe\n",
    "cpu_new = cpu[cpu['MMAX'] > 35000]\n",
    "cpu_new"
   ]
  },
  {
   "cell_type": "code",
   "execution_count": null,
   "metadata": {
    "collapsed": true
   },
   "outputs": [],
   "source": [
    "cpu_new.loc[8:10] # Looks for the rows which are labelled 8 and 9"
   ]
  },
  {
   "cell_type": "code",
   "execution_count": null,
   "metadata": {
    "collapsed": true
   },
   "outputs": [],
   "source": [
    "cpu_new.iloc[0:2] # Look for the first and second rows (this yields the same result as before)"
   ]
  },
  {
   "cell_type": "code",
   "execution_count": null,
   "metadata": {
    "collapsed": true
   },
   "outputs": [],
   "source": [
    "# If we try the following we will get an empty DataFrame because there are no rows with labels 0 and 1.\n",
    "cpu_new.loc[0:2]"
   ]
  },
  {
   "cell_type": "code",
   "execution_count": null,
   "metadata": {
    "collapsed": true
   },
   "outputs": [],
   "source": [
    "# The result is another DataFrame\n",
    "type(cpu[0:2])"
   ]
  },
  {
   "cell_type": "markdown",
   "metadata": {},
   "source": [
    "A very common scenario will be the following. We want to select specific observations and columns of a DataFrame and convert to a NumPy array so that we can use it for feature extraction, classification etc. This can be achieved by using the `values` method."
   ]
  },
  {
   "cell_type": "code",
   "execution_count": null,
   "metadata": {
    "collapsed": true
   },
   "outputs": [],
   "source": [
    "# Select the first 10 observations and the \"MMIN\" and \"MMAX\" columns only and convert to numpy array.\n",
    "cpu[:10][['MMIN', 'MMAX']].values"
   ]
  },
  {
   "cell_type": "markdown",
   "metadata": {},
   "source": [
    "You can confirm that by using the `values` method the resulting object is a NumPy array."
   ]
  },
  {
   "cell_type": "markdown",
   "metadata": {},
   "source": [
    "#### Indexing - selecting rows and columns"
   ]
  },
  {
   "cell_type": "markdown",
   "metadata": {},
   "source": [
    "*WARNING* - indexing is probably the most difficult part of pandas to get used to. If you get stuck [refer to the documentation on indexing](https://pandas.pydata.org/pandas-docs/stable/indexing.html)."
   ]
  },
  {
   "cell_type": "markdown",
   "metadata": {},
   "source": [
    "Summary of DataFrame methods for indexing:\n",
    "* iloc - ignore index labels, index like numpy with integer positions\n",
    "* loc - use index labels"
   ]
  },
  {
   "cell_type": "markdown",
   "metadata": {},
   "source": [
    "To illustrate, observe what happens when we reorder the rows of our dataframe."
   ]
  },
  {
   "cell_type": "code",
   "execution_count": null,
   "metadata": {
    "collapsed": true
   },
   "outputs": [],
   "source": [
    "cpu.sort_values('ERP', inplace=True)"
   ]
  },
  {
   "cell_type": "code",
   "execution_count": null,
   "metadata": {
    "collapsed": true
   },
   "outputs": [],
   "source": [
    "cpu.iloc[:10]"
   ]
  },
  {
   "cell_type": "code",
   "execution_count": null,
   "metadata": {
    "collapsed": true
   },
   "outputs": [],
   "source": [
    "cpu.loc[:10]"
   ]
  },
  {
   "cell_type": "markdown",
   "metadata": {},
   "source": [
    "Observe what happens if we change the label of one of the now first index"
   ]
  },
  {
   "cell_type": "code",
   "execution_count": null,
   "metadata": {
    "collapsed": true
   },
   "outputs": [],
   "source": [
    "cpu = cpu.rename(index={cpu.index[0]: 'A'})"
   ]
  },
  {
   "cell_type": "code",
   "execution_count": null,
   "metadata": {
    "collapsed": true
   },
   "outputs": [],
   "source": [
    "cpu.iloc[:10]"
   ]
  },
  {
   "cell_type": "code",
   "execution_count": null,
   "metadata": {
    "collapsed": true
   },
   "outputs": [],
   "source": [
    "try:\n",
    "    cpu.loc[:10]\n",
    "except TypeError as e:\n",
    "    print(e)"
   ]
  },
  {
   "cell_type": "markdown",
   "metadata": {},
   "source": [
    "For more, check out [Advanced Indexing](https://pandas.pydata.org/pandas-docs/stable/advanced.html#advanced)"
   ]
  },
  {
   "cell_type": "markdown",
   "metadata": {},
   "source": [
    "## Matplotlib introduction"
   ]
  },
  {
   "cell_type": "markdown",
   "metadata": {},
   "source": [
    "Matplotlib is a 2D python plotting library with a similar interface to MATLAB's plot engine. The library is fully compatible with NumPy which means that we can -and most of the times will- pass numpy arrays as input arguments to the various plotting functions.\n",
    "\n",
    "There are many [resources](http://matplotlib.org/resources/index.html) for learning how to use Matplotlib. The following examples demonstrate only some basic plotting functions. When you are looking for a particular feature which you don't know yet how to implement a web search can prove very useful."
   ]
  },
  {
   "cell_type": "code",
   "execution_count": null,
   "metadata": {
    "collapsed": true
   },
   "outputs": [],
   "source": [
    "# The first example creates a sine and a cosine and plots them.\n",
    "X = np.linspace(-np.pi, np.pi, 256,endpoint=True) # Evenly spaced numbers over the specified interval\n",
    "C, S = np.cos(X), np.sin(X) # Create a sine (S) and a cosine (C)\n",
    "\n",
    "plt.figure(figsize=(8,5)) # Instantiates figure with a specified size\n",
    "plt.plot(X,C, label='Cosine')\n",
    "plt.plot(X,S, label='Sine')\n",
    "plt.legend() # Displays legend\n",
    "plt.show()"
   ]
  },
  {
   "cell_type": "code",
   "execution_count": null,
   "metadata": {
    "collapsed": true,
    "scrolled": false
   },
   "outputs": [],
   "source": [
    "# Create 4 subplots and plot cosines with different colours, linestyels and linewidths.\n",
    "X = np.linspace(-np.pi, np.pi, 256,endpoint=True) # Evenly spaced numbers over the specified interval\n",
    "C1, C2, C3, C4 = np.cos(X), np.cos(X+0.5), np.cos(X+1.), np.cos(X+1.5)\n",
    "\n",
    "fig, ax = plt.subplots(figsize=(7,7))\n",
    "plt.subplot(2,2,1)\n",
    "plt.plot(X, C1)\n",
    "plt.title('C1')\n",
    "plt.xticks([]) # Removes xticks\n",
    "plt.subplot(2,2,2)\n",
    "plt.plot(X, C2, color='green',  linestyle='-.')\n",
    "plt.title('C2')\n",
    "plt.xticks([]) # Removes xticks\n",
    "plt.yticks([]) # Removes yticks\n",
    "plt.subplot(2,2,3)\n",
    "plt.plot(X, C3, color='k', linestyle='--')\n",
    "plt.title('C3')\n",
    "plt.subplot(2,2,4)\n",
    "plt.plot(X, C4, color='m', linewidth = 5.)\n",
    "plt.title('C4')\n",
    "plt.yticks([]) # Removes yticks\n",
    "plt.show()"
   ]
  },
  {
   "cell_type": "markdown",
   "metadata": {},
   "source": [
    "Another way to reference subplots is using the Axes objects. This code acheives the same thing as above but, instead of using the package api functions, it uses the Axes object methods:"
   ]
  },
  {
   "cell_type": "code",
   "execution_count": null,
   "metadata": {
    "collapsed": true
   },
   "outputs": [],
   "source": [
    "fig, ax = plt.subplots(2, 2, figsize=(7,7), sharex=True, sharey=True)\n",
    "# ax is a 2 x 2 numpy array at this point containing the Axes objects\n",
    "ax = ax.flatten()  # this simply flattens the array such that we can reference by a single index\n",
    "ax[0].plot(X, C1)\n",
    "ax[0].set_title('C1')\n",
    "ax[1].plot(X, C2, color='green',  linestyle='-.')\n",
    "ax[1].set_title('C2')\n",
    "ax[2].plot(X, C3, color='k', linestyle='--')\n",
    "ax[2].set_title('C3')\n",
    "ax[3].plot(X, C4, color='m', linewidth = 5.)\n",
    "ax[3].set_title('C4')\n",
    "plt.show()"
   ]
  },
  {
   "cell_type": "markdown",
   "metadata": {},
   "source": [
    "**N.B. Because we created the subplots up front and stated the axes should be the same, matplotlib intelligently labels the axes for us**"
   ]
  },
  {
   "cell_type": "code",
   "execution_count": null,
   "metadata": {
    "collapsed": true
   },
   "outputs": [],
   "source": [
    "# Plot a histogram and add some text\n",
    "mu, sigma = 100, 15\n",
    "x = mu + sigma * np.random.randn(10000) # Generate data from a normal distribution with mean mu and variance sigma\n",
    "\n",
    "# the histogram of the data\n",
    "n, bins, patches = plt.hist(x, 50, normed=1, facecolor='g', alpha=0.75)\n",
    "\n",
    "plt.xlabel('Smarts')\n",
    "plt.ylabel('Probability')\n",
    "plt.title('Histogram of IQ')\n",
    "plt.text(60, .025, r'$\\mu=100,\\ \\sigma=15$') # Adds some text by using TeX\n",
    "plt.axis([40, 160, 0, 0.03]) # Sets the axes limits\n",
    "plt.grid(True) # Enables grid\n",
    "plt.show()"
   ]
  },
  {
   "cell_type": "markdown",
   "metadata": {},
   "source": [
    "## Seaborn"
   ]
  },
  {
   "cell_type": "markdown",
   "metadata": {},
   "source": [
    "[Seaborn](https://seaborn.github.io/index.html) is a visualisation library built on top of matplotlib which offers some aesthetic enhancement and, more importantly, provides some high-level functions for  \"exploring and understanding data\". Seaborn is also tightly integrated with pandas and provides support for both numpy and pandas data structures."
   ]
  },
  {
   "cell_type": "markdown",
   "metadata": {},
   "source": [
    "### Aesthetics"
   ]
  },
  {
   "cell_type": "markdown",
   "metadata": {},
   "source": [
    "Firstly note that when you import and use seaborn, it may change the aesthetics of all matplotlib plots you make subsequently. If you only ever want to use matplotlib defaults, you can import seaborn like this: `import seaborn.apionly as sns`. \n",
    "\n",
    "To reset to matplotlib defaults, use: `sns.reset_defaults()`"
   ]
  },
  {
   "cell_type": "markdown",
   "metadata": {},
   "source": [
    "There's some really useful stuff you can do with seaborn, especially with respect to setting default sizings with respect to the context in which you're producing plots. With one function, seaborn can make plots appropriate for posters, papers, notebooks, or talks. For further information see the [seaborn documentation on aesthetics](https://seaborn.pydata.org/tutorial/aesthetics.html)"
   ]
  },
  {
   "cell_type": "markdown",
   "metadata": {},
   "source": [
    "### Seaborn implemented functions [Optional]\n",
    "The Seaborn website has many great examples. Below we show a few taken directly from the website. These are just to give you a flavour of the kinds of things that Seaborn can do. You can use it as reference later; by no means should you learn this code by heart! You should definitely not worry if some of the following commands do not make sense just yet."
   ]
  },
  {
   "cell_type": "code",
   "execution_count": null,
   "metadata": {
    "collapsed": true
   },
   "outputs": [],
   "source": [
    "# Load the example titanic dataset\n",
    "df = sns.load_dataset(\"titanic\")\n",
    "# Make a custom palette with gendered colors\n",
    "pal = dict(male=\"#6495ED\", female=\"#F08080\")\n",
    "\n",
    "with sns.axes_style(style=\"darkgrid\"):\n",
    "    for context in ['notebook', 'paper', 'poster', 'talk']:\n",
    "        with sns.plotting_context(context):\n",
    "            # Show the survival proability as a function of age and sex\n",
    "            g = sns.lmplot(x=\"age\", y=\"survived\", col=\"sex\", hue=\"sex\", data=df,\n",
    "                           palette=pal, y_jitter=.02, logistic=True)\n",
    "            g.set(xlim=(0, 80), ylim=(-.05, 1.05))\n",
    "            plt.show()"
   ]
  },
  {
   "cell_type": "code",
   "execution_count": null,
   "metadata": {
    "collapsed": true
   },
   "outputs": [],
   "source": [
    "# using a with statement means style defaults are not overridden\n",
    "with sns.axes_style(style=\"white\", rc=dict(palette=\"muted\", color_codes=True)):\n",
    "    rs = np.random.RandomState(10)\n",
    "\n",
    "    # Set up the matplotlib figure\n",
    "    f, axes = plt.subplots(2, 2, figsize=(7, 7), sharex=True)\n",
    "    sns.despine(left=True)\n",
    "\n",
    "    # Generate a random univariate dataset\n",
    "    d = rs.normal(size=100)\n",
    "\n",
    "    # Plot a simple histogram with binsize determined automatically\n",
    "    sns.distplot(d, kde=False, color=\"b\", ax=axes[0, 0])\n",
    "\n",
    "    # Plot a kernel density estimate and rug plot\n",
    "    sns.distplot(d, hist=False, rug=True, color=\"r\", ax=axes[0, 1])\n",
    "\n",
    "    # Plot a filled kernel density estimate\n",
    "    sns.distplot(d, hist=False, color=\"g\", kde_kws={\"shade\": True}, ax=axes[1, 0])\n",
    "\n",
    "    # Plot a historgram and kernel density estimate\n",
    "    sns.distplot(d, color=\"m\", ax=axes[1, 1])\n",
    "\n",
    "    plt.setp(axes, yticks=[])\n",
    "    plt.tight_layout()\n",
    "    plt.show()"
   ]
  },
  {
   "cell_type": "code",
   "execution_count": null,
   "metadata": {
    "collapsed": true
   },
   "outputs": [],
   "source": [
    "with sns.axes_style(style=\"white\"):\n",
    "\n",
    "    # Generate a random correlated bivariate dataset\n",
    "    rs = np.random.RandomState(5)\n",
    "    mean = [0, 0]\n",
    "    cov = [(1, .5), (.5, 1)]\n",
    "    x1, x2 = rs.multivariate_normal(mean, cov, 500).T\n",
    "    x1 = pd.Series(x1, name=\"$X_1$\")\n",
    "    x2 = pd.Series(x2, name=\"$X_2$\")\n",
    "\n",
    "    # Show the joint distribution using kernel density estimation\n",
    "    g = sns.jointplot(x1, x2, kind=\"kde\", size=7, space=0)\n",
    "    plt.show()"
   ]
  },
  {
   "cell_type": "code",
   "execution_count": null,
   "metadata": {
    "collapsed": true
   },
   "outputs": [],
   "source": [
    "with sns.axes_style(style=\"whitegrid\", rc=dict(palette=\"pastel\", color_codes=True)):\n",
    "    # Load the example tips dataset\n",
    "    tips = sns.load_dataset(\"tips\")\n",
    "\n",
    "    # Draw a nested violinplot and split the violins for easier comparison\n",
    "    sns.violinplot(x=\"day\", y=\"total_bill\", hue=\"sex\", data=tips, split=True,\n",
    "                   inner=\"quart\", palette={\"Male\": \"b\", \"Female\": \"y\"})\n",
    "    sns.despine(left=True)\n",
    "    plt.show()"
   ]
  },
  {
   "cell_type": "code",
   "execution_count": null,
   "metadata": {
    "collapsed": true
   },
   "outputs": [],
   "source": [
    "sns.set()\n",
    "\n",
    "# Load the example flights dataset and convert to long-form\n",
    "flights_long = sns.load_dataset(\"flights\")\n",
    "flights = flights_long.pivot(\"month\", \"year\", \"passengers\")\n",
    "\n",
    "# Draw a heatmap with the numeric values in each cell\n",
    "sns.heatmap(flights, annot=True, fmt=\"d\", linewidths=.5)\n",
    "plt.show()"
   ]
  },
  {
   "cell_type": "code",
   "execution_count": null,
   "metadata": {
    "collapsed": true
   },
   "outputs": [],
   "source": [
    "sns.set(style=\"darkgrid\")\n",
    "\n",
    "tips = sns.load_dataset(\"tips\")\n",
    "g = sns.FacetGrid(tips, row=\"sex\", col=\"time\", margin_titles=True)\n",
    "bins = np.linspace(0, 60, 13)\n",
    "g.map(plt.hist, \"total_bill\", color=\"steelblue\", bins=bins, lw=0)\n",
    "plt.show()"
   ]
  },
  {
   "cell_type": "code",
   "execution_count": null,
   "metadata": {
    "collapsed": true
   },
   "outputs": [],
   "source": [
    "sns.set(style=\"ticks\")\n",
    "\n",
    "# Create a dataset with many short random walks\n",
    "rs = np.random.RandomState(4)\n",
    "pos = rs.randint(-1, 2, (20, 5)).cumsum(axis=1)\n",
    "pos -= pos[:, 0, np.newaxis]\n",
    "step = np.tile(range(5), 20)\n",
    "walk = np.repeat(range(20), 5)\n",
    "df = pd.DataFrame(np.c_[pos.flat, step, walk],\n",
    "                  columns=[\"position\", \"step\", \"walk\"])\n",
    "\n",
    "# Initialize a grid of plots with an Axes for each walk\n",
    "grid = sns.FacetGrid(df, col=\"walk\", hue=\"walk\", col_wrap=5, size=1.5)\n",
    "\n",
    "# Draw a horizontal line to show the starting point\n",
    "grid.map(plt.axhline, y=0, ls=\":\", c=\".5\")\n",
    "\n",
    "# Draw a line plot to show the trajectory of each random walk\n",
    "grid.map(plt.plot, \"step\", \"position\", marker=\"o\", ms=4)\n",
    "\n",
    "# Adjust the tick positions and labels\n",
    "grid.set(xticks=np.arange(5), yticks=[-3, 3],\n",
    "         xlim=(-.5, 4.5), ylim=(-3.5, 3.5))\n",
    "\n",
    "# Adjust the arrangement of the plots\n",
    "grid.fig.tight_layout(w_pad=1)\n",
    "plt.show()"
   ]
  },
  {
   "cell_type": "markdown",
   "metadata": {},
   "source": [
    "# ======= Exercises ======="
   ]
  },
  {
   "cell_type": "markdown",
   "metadata": {},
   "source": [
    "## Numpy exercises"
   ]
  },
  {
   "cell_type": "markdown",
   "metadata": {},
   "source": [
    "The following short exercises test your understanding of simple numpy functions and objects. Make sure you can complete them and feel free to reference the official [documentation](http://docs.scipy.org/doc/) should you need it.\n",
    "\n",
    "**You may need to google some solutions**"
   ]
  },
  {
   "cell_type": "markdown",
   "metadata": {},
   "source": [
    "#### ========== Question 1 ==========\n",
    "Print your numpy version."
   ]
  },
  {
   "cell_type": "code",
   "execution_count": null,
   "metadata": {
    "collapsed": true
   },
   "outputs": [],
   "source": [
    "# Your code goes here"
   ]
  },
  {
   "cell_type": "markdown",
   "metadata": {},
   "source": [
    "#### ========== Question 2 ==========\n",
    "Create a zero vector of size 5."
   ]
  },
  {
   "cell_type": "code",
   "execution_count": null,
   "metadata": {
    "collapsed": true
   },
   "outputs": [],
   "source": [
    "# Your code goes here"
   ]
  },
  {
   "cell_type": "markdown",
   "metadata": {},
   "source": [
    "#### ========== Question 3 ==========\n",
    "Create a zero vector of size 5 of type integer. Set the third element to 1."
   ]
  },
  {
   "cell_type": "code",
   "execution_count": null,
   "metadata": {
    "collapsed": true
   },
   "outputs": [],
   "source": [
    "# Your code goes here"
   ]
  },
  {
   "cell_type": "markdown",
   "metadata": {},
   "source": [
    "#### ========== Question 4 ==========\n",
    "Create a vector ranging from 0 to 9. "
   ]
  },
  {
   "cell_type": "code",
   "execution_count": null,
   "metadata": {
    "collapsed": true
   },
   "outputs": [],
   "source": [
    "# Your code goes here"
   ]
  },
  {
   "cell_type": "markdown",
   "metadata": {},
   "source": [
    "#### ========== Question 5 ==========\n",
    "Create a vector ranging from 10 to 29."
   ]
  },
  {
   "cell_type": "code",
   "execution_count": null,
   "metadata": {
    "collapsed": true
   },
   "outputs": [],
   "source": [
    "# Your code goes here"
   ]
  },
  {
   "cell_type": "markdown",
   "metadata": {},
   "source": [
    "#### ========== Question 6 ==========\n",
    "Create a vector ranging from 0 to 9 and reverse it."
   ]
  },
  {
   "cell_type": "code",
   "execution_count": null,
   "metadata": {
    "collapsed": true
   },
   "outputs": [],
   "source": [
    "# Your code goes here"
   ]
  },
  {
   "cell_type": "markdown",
   "metadata": {},
   "source": [
    "#### ========== Question 7 ==========\n",
    "Create a 5 x 3 zero matrix."
   ]
  },
  {
   "cell_type": "code",
   "execution_count": null,
   "metadata": {
    "collapsed": true
   },
   "outputs": [],
   "source": [
    "# Your code goes here"
   ]
  },
  {
   "cell_type": "markdown",
   "metadata": {},
   "source": [
    "#### ========== Question 8 ==========\n",
    "Create this matrix...without copy pasting it ;)\n",
    "```\n",
    "array([[0, 3, 6],\n",
    "       [1, 4, 7],\n",
    "       [2, 5, 8]])\n",
    "```"
   ]
  },
  {
   "cell_type": "code",
   "execution_count": null,
   "metadata": {
    "collapsed": true
   },
   "outputs": [],
   "source": [
    "# Your code goes here"
   ]
  },
  {
   "cell_type": "markdown",
   "metadata": {},
   "source": [
    "#### ========== Question 9 ==========\n",
    "Create a 3 X 3 identity matrix."
   ]
  },
  {
   "cell_type": "code",
   "execution_count": null,
   "metadata": {
    "collapsed": true
   },
   "outputs": [],
   "source": [
    "# Your code goes here"
   ]
  },
  {
   "cell_type": "markdown",
   "metadata": {},
   "source": [
    "#### ========== Question 10 ==========\n",
    "Create a 2 X 2 X 2 array with random values (drawn from a normal distribution)."
   ]
  },
  {
   "cell_type": "code",
   "execution_count": null,
   "metadata": {
    "collapsed": true
   },
   "outputs": [],
   "source": [
    "# Your code goes here"
   ]
  },
  {
   "cell_type": "markdown",
   "metadata": {},
   "source": [
    "#### ========== Question 11a ==========\n",
    "Create a 5 x 4 array with random values and find the minimum and maximum values."
   ]
  },
  {
   "cell_type": "code",
   "execution_count": null,
   "metadata": {
    "collapsed": true
   },
   "outputs": [],
   "source": [
    "# Your code goes here"
   ]
  },
  {
   "cell_type": "markdown",
   "metadata": {},
   "source": [
    "#### ========== Question 11b ==========\n",
    "Return the *index* (i.e. the location within the matrix) of the max or min values"
   ]
  },
  {
   "cell_type": "code",
   "execution_count": null,
   "metadata": {
    "collapsed": true
   },
   "outputs": [],
   "source": [
    "# Your code goes here"
   ]
  },
  {
   "cell_type": "markdown",
   "metadata": {},
   "source": [
    "#### ========== Question 12 ==========\n",
    "Find the mean value of the array in 11."
   ]
  },
  {
   "cell_type": "code",
   "execution_count": null,
   "metadata": {
    "collapsed": true
   },
   "outputs": [],
   "source": [
    "# Your code goes here"
   ]
  },
  {
   "cell_type": "markdown",
   "metadata": {},
   "source": [
    "#### ========== Question 13 ==========\n",
    "Find the row means of the array in 11."
   ]
  },
  {
   "cell_type": "code",
   "execution_count": null,
   "metadata": {
    "collapsed": true
   },
   "outputs": [],
   "source": [
    "# Your code goes here"
   ]
  },
  {
   "cell_type": "markdown",
   "metadata": {},
   "source": [
    "#### ========== Question 14 ==========\n",
    "Find the column means of the array in 11."
   ]
  },
  {
   "cell_type": "code",
   "execution_count": null,
   "metadata": {
    "collapsed": true
   },
   "outputs": [],
   "source": [
    "# Your code goes here"
   ]
  },
  {
   "cell_type": "markdown",
   "metadata": {},
   "source": [
    "#### ========== Question 15 ==========\n",
    "Create a list with elements 2.2, 3.5, 0, 4, 0. and convert into numpy array. Find the indices of non-zero elements."
   ]
  },
  {
   "cell_type": "code",
   "execution_count": null,
   "metadata": {
    "collapsed": true
   },
   "outputs": [],
   "source": [
    "# Your code goes here"
   ]
  },
  {
   "cell_type": "markdown",
   "metadata": {},
   "source": [
    "#### ========== Question 16 ==========\n",
    "Crate two normally distributed random matrices of shape (5, 4) and (4, 2). Print their matrix product."
   ]
  },
  {
   "cell_type": "code",
   "execution_count": null,
   "metadata": {
    "collapsed": true
   },
   "outputs": [],
   "source": [
    "# Your code goes here"
   ]
  },
  {
   "cell_type": "markdown",
   "metadata": {},
   "source": [
    "#### ========== Question 17 ==========\n",
    "Crate a random matrix of shape (5, 3) and a random vector of size 3. Use broadcasting to add the two arrays."
   ]
  },
  {
   "cell_type": "code",
   "execution_count": null,
   "metadata": {
    "collapsed": true
   },
   "outputs": [],
   "source": [
    "# Your code goes here"
   ]
  },
  {
   "cell_type": "markdown",
   "metadata": {},
   "source": [
    "## Pandas exercises"
   ]
  },
  {
   "cell_type": "markdown",
   "metadata": {},
   "source": [
    "#### ========== Question 18 ==========\n",
    "Load the `credit` dataset and display the dataset basic information."
   ]
  },
  {
   "cell_type": "code",
   "execution_count": null,
   "metadata": {
    "collapsed": true
   },
   "outputs": [],
   "source": [
    "# Your code goes here"
   ]
  },
  {
   "cell_type": "markdown",
   "metadata": {},
   "source": [
    "#### ========== Question 19 ==========\n",
    "Display the summary statistics of the attributes of the dataset."
   ]
  },
  {
   "cell_type": "code",
   "execution_count": null,
   "metadata": {
    "collapsed": true
   },
   "outputs": [],
   "source": [
    "# Your code goes here"
   ]
  },
  {
   "cell_type": "markdown",
   "metadata": {},
   "source": [
    "#### ========== Question 20 ==========\n",
    "Display the last 6 instances of the dataset."
   ]
  },
  {
   "cell_type": "code",
   "execution_count": null,
   "metadata": {
    "collapsed": true
   },
   "outputs": [],
   "source": [
    "# Your code goes here"
   ]
  },
  {
   "cell_type": "markdown",
   "metadata": {},
   "source": [
    "#### ========== Question 21 ==========\n",
    "Print the 5th observation"
   ]
  },
  {
   "cell_type": "code",
   "execution_count": null,
   "metadata": {
    "collapsed": true
   },
   "outputs": [],
   "source": [
    "# Your code goes here"
   ]
  },
  {
   "cell_type": "markdown",
   "metadata": {},
   "source": [
    "#### ========== Question 22 ==========\n",
    "Print the standard deviation of the attribute `CreditAmount` by using the numpy method `std`. You can verify you get the correct result by inspecting the statistics table from Question 19."
   ]
  },
  {
   "cell_type": "code",
   "execution_count": null,
   "metadata": {
    "collapsed": true
   },
   "outputs": [],
   "source": [
    "# Your code goes here"
   ]
  },
  {
   "cell_type": "markdown",
   "metadata": {},
   "source": [
    "## Matplotlib exercises"
   ]
  },
  {
   "cell_type": "markdown",
   "metadata": {},
   "source": [
    "#### ========== Question 23 ==========\n",
    "Initialise an empty figure of size (8,6). Create a scatter plot of the observations in the `credit` dataset for the attributes `Duration` and `Age` (age should be shown on the xaxis). Use black coloured markers. Label the axes accordingly by using red colour for the xaxis and green for the yaxis. Finally, add a title of your choice by using a font size of 20. "
   ]
  },
  {
   "cell_type": "code",
   "execution_count": null,
   "metadata": {
    "collapsed": true
   },
   "outputs": [],
   "source": [
    "# Your code goes here"
   ]
  },
  {
   "cell_type": "markdown",
   "metadata": {},
   "source": [
    "#### ========== Question 24 ==========\n",
    "You should note above that there is an outlier (i.e. an observation that is very distant to the other observations). Now you think that there must be something wrong with that observation (why?) and as a next step you should remove it from both the age and duration variables and a make a scatter plot of the new data."
   ]
  },
  {
   "cell_type": "code",
   "execution_count": null,
   "metadata": {
    "collapsed": true
   },
   "outputs": [],
   "source": [
    "# Your code goes here"
   ]
  }
 ],
 "metadata": {
  "anaconda-cloud": {},
  "kernelspec": {
   "display_name": "Python 3",
   "language": "python",
   "name": "python3"
  },
  "language_info": {
   "codemirror_mode": {
    "name": "ipython",
    "version": 3
   },
   "file_extension": ".py",
   "mimetype": "text/x-python",
   "name": "python",
   "nbconvert_exporter": "python",
   "pygments_lexer": "ipython3",
   "version": "3.7.3"
  }
 },
 "nbformat": 4,
 "nbformat_minor": 1
}
